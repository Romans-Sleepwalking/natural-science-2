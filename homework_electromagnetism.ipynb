{
 "cells": [
  {
   "metadata": {
    "ExecuteTime": {
     "end_time": "2025-04-15T23:39:00.543543Z",
     "start_time": "2025-04-15T23:39:00.494271Z"
    }
   },
   "cell_type": "code",
   "source": [
    "import numpy as np\n",
    "import math"
   ],
   "id": "4f5d26036a271b7b",
   "outputs": [],
   "execution_count": 1
  },
  {
   "metadata": {},
   "cell_type": "markdown",
   "source": [
    "## HW1 Lorentz Force\n",
    "\n",
    "## HW2 Sources of Magneetic Field. Ampere's Law.\n",
    "\n",
    "## HW3 Electromagnetic Induction.\n",
    "\n",
    "## HW4 Electromagnetic Oscillations.\n",
    "\n",
    "\n",
    "---\n",
    "\n",
    "&nbsp;\n",
    "\n",
    "### Task 1\n",
    "\n",
    "A proton moving at 3.50  106 m/s through a magnetic field of magnitude 1.72 T.\n",
    "\n",
    "It experiences a magnetic force of magnitude 7.80  10-13 N.\n",
    "\n",
    "What is the angle between the proton's velocity and the field?\n",
    "\n",
    "(Enter both possible answers from smallest to largest.)"
   ],
   "id": "2419e649e8f051b1"
  },
  {
   "metadata": {
    "ExecuteTime": {
     "end_time": "2025-04-15T23:39:00.548574Z",
     "start_time": "2025-04-15T23:39:00.546364Z"
    }
   },
   "cell_type": "code",
   "source": [
    "Fb = 7.80e-13\n",
    "q = 1.602e-19\n",
    "v = 3.50e6\n",
    "B = 1.72\n",
    "\n",
    "sin_theta = Fb / (q * v * B)\n",
    "theta_rad = math.asin(sin_theta)\n",
    "theta_deg = math.degrees(theta_rad)\n",
    "print(f\"Possible angles between velocity and field: {theta_deg:.1f}, {180 - theta_deg:.1f} degrees\")\n",
    "# Possible angles between velocity and field: 54.0, 126.0 degrees"
   ],
   "id": "9c28bcfe10d42020",
   "outputs": [
    {
     "name": "stdout",
     "output_type": "stream",
     "text": [
      "Possible angles between velocity and field: 54.0, 126.0 degrees\n"
     ]
    }
   ],
   "execution_count": 2
  },
  {
   "metadata": {},
   "cell_type": "markdown",
   "source": [
    "### Task 2\n",
    "\n",
    "The figure below shows a section of an overhead power line that is 60.5 m long and carries a current of 2.00 kA.\n",
    "\n",
    "The current is directed to the north.\n",
    "\n",
    "The magnitude of the Earth's magnetic field at this location is 4.70 ✕ 10−5 T.\n",
    "\n",
    "The field has a northward component and a downward component, so that it makes an angle of 65.0° with the power line."
   ],
   "id": "f22b9bd4379ec006"
  },
  {
   "metadata": {
    "ExecuteTime": {
     "end_time": "2025-04-15T23:39:00.731866Z",
     "start_time": "2025-04-15T23:39:00.729830Z"
    }
   },
   "cell_type": "code",
   "source": [
    "L = 60.5\n",
    "I = 2e3\n",
    "B = 4.70e-5\n",
    "theta_deg = 65\n",
    "theta_rad = math.radians(theta_deg)\n",
    "sin_theta = math.sin(theta_rad)\n",
    "\n",
    "Fb = L * I * B * sin_theta\n",
    "print(f\"Magnitude of the magnetic force: {Fb:.3f} [N]\")\n",
    "# Magnitude of the magnetic force: 5.154 [N]"
   ],
   "id": "5626df55017ae9b4",
   "outputs": [
    {
     "name": "stdout",
     "output_type": "stream",
     "text": [
      "Magnitude of the magnetic force: 5.154 [N]\n"
     ]
    }
   ],
   "execution_count": 3
  },
  {
   "metadata": {},
   "cell_type": "markdown",
   "source": [
    "### Task 3\n",
    "\n",
    "A rectangular coil consists of N = 110 closely wrapped turns.\n",
    "\n",
    "It has dimensions a = 0.400 m and b = 0.300 m.\n",
    "\n",
    "The coil is hinged along the y axis\n",
    "\n",
    "Its plane makes an angle 𝜃 = 30.0° with the x axis (figure)."
   ],
   "id": "81a70e042ab159a3"
  },
  {
   "metadata": {
    "ExecuteTime": {
     "end_time": "2025-04-15T23:39:00.743537Z",
     "start_time": "2025-04-15T23:39:00.741690Z"
    }
   },
   "cell_type": "code",
   "source": [
    "N = 110\n",
    "a = 0.400\n",
    "b = 0.300\n",
    "theta_deg = 90 - 30\n",
    "B = 0.420\n",
    "I = 1.20\n",
    "\n",
    "theta_rad = math.radians(theta_deg)\n",
    "sin_theta = math.sin(theta_rad)\n",
    "\n",
    "A = a * b\n",
    "torque = N * I * A * B * sin_theta\n",
    "print(f\"Torque: {torque:.3f} [Nm]\")\n",
    "# Torque: 5.761 [Nm]"
   ],
   "id": "4ca50f648e33d57e",
   "outputs": [
    {
     "name": "stdout",
     "output_type": "stream",
     "text": [
      "Torque: 5.761 [Nm]\n"
     ]
    }
   ],
   "execution_count": 4
  },
  {
   "metadata": {},
   "cell_type": "markdown",
   "source": [
    "### Task 4\n",
    "\n",
    "Two long, parallel wires carry currents of I1 = 3.15 A and I2 = 5.45 A in the directions indicated in the figure below.\n",
    "\n",
    "d = 23.0 cm.\n",
    "\n",
    "Take the positive x direction to be to the right."
   ],
   "id": "ba81be010d472eca"
  },
  {
   "metadata": {
    "ExecuteTime": {
     "end_time": "2025-04-15T23:39:00.781725Z",
     "start_time": "2025-04-15T23:39:00.778526Z"
    }
   },
   "cell_type": "code",
   "source": [
    "I1 = 3.15\n",
    "I2 = 5.45\n",
    "d = 0.23\n",
    "mu_0 = 4e-7 * math.pi\n",
    "\n",
    "def b_magnitude(_I, _r):\n",
    "  \"\"\"Ampere’s law.\"\"\"\n",
    "  return (mu_0 * _I) / (2 * math.pi * _r)\n",
    "\n",
    "B1_a = b_magnitude(_I=I1, _r=d/2)\n",
    "B2_a = b_magnitude(_I=I2, _r=d/2)\n",
    "\n",
    "def add_vectors(mag_1, mag_2, theta1_deg, theta2_deg):\n",
    "    \"\"\"Cartesian components.\"\"\"\n",
    "    theta1_rad = math.radians(theta1_deg)\n",
    "    theta2_rad = math.radians(theta2_deg)\n",
    "    vec1 = mag_1 * np.array([np.cos(theta1_rad), np.sin(theta1_rad)])\n",
    "    vec2 = mag_2 * np.array([np.cos(theta2_rad), np.sin(theta2_rad)])\n",
    "    v_res = vec1 + vec2\n",
    "    v_mag = np.linalg.norm(v_res)\n",
    "    v_theta_def = np.degrees(np.arctan2(v_res[1], v_res[0]))\n",
    "    return v_mag, v_theta_def\n",
    "\n",
    "\n",
    "B_a, B_theta_a = add_vectors(mag_1=B1_a, mag_2=B2_a, theta1_deg=90, theta2_deg=270)\n",
    "print(f\"Midway point magnetic field is {B_a:.3e} [T] at {B_theta_a:.3f} degrees angle\")\n",
    "# Midway point magnetic field is 4.000e-06 [T] at -90.000 degrees angle\n",
    "\n",
    "B1_b = b_magnitude(_I=I1, _r=d * math.sqrt(2))\n",
    "B2_b = b_magnitude(_I=I2, _r=d)\n",
    "\n",
    "B_b, B_theta_b = add_vectors(mag_1=B1_b, mag_2=B2_b, theta1_deg=135, theta2_deg=180)\n",
    "print(f\"Point P magnetic field is {B_b:.3e} [T] at {B_theta_b:.3f} degrees angle\")\n",
    "# Point P magnetic field is 6.260e-06 [T] at 167.363 degrees angle"
   ],
   "id": "bb8338c996e0f092",
   "outputs": [
    {
     "name": "stdout",
     "output_type": "stream",
     "text": [
      "Midway point magnetic field is 4.000e-06 [T] at -90.000 degrees angle\n",
      "Point P magnetic field is 6.260e-06 [T] at 167.363 degrees angle\n"
     ]
    }
   ],
   "execution_count": 5
  },
  {
   "metadata": {},
   "cell_type": "markdown",
   "source": [
    "### Task 5\n",
    "\n",
    "The figure below is a cross-sectional view of a coaxial cable.\n",
    "\n",
    "The center conductor is surrounded by a rubber layer, an outer conductor, and another rubber layer.\n",
    "\n",
    "In a particular application, the current in the inner conductor is I1 = 1.14 A out of the page.\n",
    "\n",
    "The current in the outer conductor is I2 = 3.14 A into the page.\n",
    "\n",
    "Assuming the distance d = 1.00 mm, answer the following."
   ],
   "id": "8e9adc44df580833"
  },
  {
   "metadata": {
    "ExecuteTime": {
     "end_time": "2025-04-15T23:39:00.807980Z",
     "start_time": "2025-04-15T23:39:00.805512Z"
    }
   },
   "cell_type": "code",
   "source": [
    "I1 = 1.14\n",
    "I2 = 3.14\n",
    "d = 0.001\n",
    "\n",
    "B_a = b_magnitude(_I=I1, _r=d)\n",
    "print(f\"Point a magnetic field is {B_a*1e6:.2f} [micro T] at {np.sign(B_a):+.0f} direction\")\n",
    "# Point a magnetic field is 228.00 [micro T] at +1 direction\n",
    "\n",
    "B_b = b_magnitude(_I=I1-I2, _r=3*d)\n",
    "print(f\"Point b magnetic field is {B_b*1e6:.2f} [micro T] at {np.sign(B_b):+.0f} direction\")\n",
    "# Point b magnetic field is 133.33 [micro T] at +1 direction"
   ],
   "id": "2a6e9896bb88d4dd",
   "outputs": [
    {
     "name": "stdout",
     "output_type": "stream",
     "text": [
      "Point a magnetic field is 228.00 [micro T] at +1 direction\n",
      "Point b magnetic field is -133.33 [micro T] at -1 direction\n"
     ]
    }
   ],
   "execution_count": 6
  },
  {
   "metadata": {},
   "cell_type": "markdown",
   "source": [
    "### Task 6\n",
    "\n",
    "For a class demonstration, a professor needs to create a solenoid using copper wire with diameter d = 0.500 mm.\n",
    "\n",
    "The resistance of the solenoid needs to be 3.30 Ohm\n",
    "\n",
    "The magnetic field of the solenoid with a current of 2.50 A should be 4.70 ✕ 10−2 T.\n",
    "\n",
    "Assume the resistance does not change significantly with temperature, and the radius of the solenoid is 1.00 cm.\n",
    "\n",
    "Use rho = 1.70 ✕ 10−8 Ohm · m for the resistivity of copper."
   ],
   "id": "4e8d5161aea4ad45"
  },
  {
   "metadata": {
    "ExecuteTime": {
     "end_time": "2025-04-15T23:39:00.832436Z",
     "start_time": "2025-04-15T23:39:00.830324Z"
    }
   },
   "cell_type": "code",
   "source": [
    "d = 0.0005\n",
    "R = 3.30\n",
    "I = 2.50\n",
    "B = 4.70e-2\n",
    "r = 0.01\n",
    "rho = 1.7e-8\n",
    "\n",
    "A_wire = math.pi * d**2 / 4\n",
    "L_wire = R * A_wire / rho\n",
    "N = L_wire / (2 * math.pi * r)\n",
    "print(f\"Number of turns: {N:.1f}\")\n",
    "# Number of turns: 606.6\n",
    "\n",
    "l = N * mu_0 * I / B\n",
    "print(f\"Required length of the solenoid: {l*100:.4f} [cm]\")\n",
    "# Required length of the solenoid: 4.0548 [cm]"
   ],
   "id": "e625d7f82b1b4d73",
   "outputs": [
    {
     "name": "stdout",
     "output_type": "stream",
     "text": [
      "Number of turns: 606.6\n",
      "Required length of the solenoid: 4.0548 [cm]\n"
     ]
    }
   ],
   "execution_count": 7
  },
  {
   "metadata": {},
   "cell_type": "markdown",
   "source": [
    "### Task 7\n",
    "\n",
    "A single loop of nickel wire, lying flat in a plane.\n",
    "\n",
    "It has an area of 8.40 cm2 and a resistance of 2.10 Ohm.\n",
    "\n",
    "A uniform magnetic field points perpendicular to the plane of the loop.\n",
    "\n",
    "The field initially has a magnitude of 0.500 T, and the magnitude increases linearly to 1.50 T in a time of 1.08 s.\n",
    "\n",
    "What is the induced current (in mA) in the loop of wire over this time?"
   ],
   "id": "42bf892ca192cf5b"
  },
  {
   "metadata": {
    "ExecuteTime": {
     "end_time": "2025-04-15T23:39:00.855770Z",
     "start_time": "2025-04-15T23:39:00.852736Z"
    }
   },
   "cell_type": "code",
   "source": [
    "A = 8.40e-4\n",
    "R = 2.10\n",
    "B_0 = 0.5\n",
    "B_1 = 1.5\n",
    "t = 1.08\n",
    "\n",
    "dB = B_1 - B_0\n",
    "emf = dB * A / t\n",
    "dI = emf / R\n",
    "print(f\"The induced current: {dI*1e3:.3f} [mA]\")\n",
    "# The induced current: 0.370 [mA]"
   ],
   "id": "e2068c90f38819f8",
   "outputs": [
    {
     "name": "stdout",
     "output_type": "stream",
     "text": [
      "The induced current: 0.370 [mA]\n"
     ]
    }
   ],
   "execution_count": 8
  },
  {
   "metadata": {},
   "cell_type": "markdown",
   "source": [
    "### Task 8\n",
    "\n",
    "The figure below shows a 96-turn square coil rotating about a vertical axis at omega = 1,380 rev/min.\n",
    "\n",
    "The length of a side of the coil is 20.0 cm.\n",
    "\n",
    "The horizontal component of the Earth's magnetic field at the coil's location is equal to 2.00 ✕ 10−5 T."
   ],
   "id": "ac44b57261ecb6c9"
  },
  {
   "metadata": {
    "ExecuteTime": {
     "end_time": "2025-04-15T23:39:00.875470Z",
     "start_time": "2025-04-15T23:39:00.872729Z"
    }
   },
   "cell_type": "code",
   "source": [
    "N = 96\n",
    "hertz = 1380 / 60\n",
    "omega = 2 * math.pi * hertz\n",
    "a = 0.20\n",
    "B = 2e-5\n",
    "\n",
    "A = a * a\n",
    "\n",
    "sin_max = 1\n",
    "emf_max = N * B * A * omega\n",
    "print(f\"The magnitude of the maximum emf = {emf_max*1e3:.3f} [mV]\")\n",
    "# The magnitude of the maximum emf = 11.099 [mV]"
   ],
   "id": "4ce41e37d24175be",
   "outputs": [
    {
     "name": "stdout",
     "output_type": "stream",
     "text": [
      "The magnitude of the maximum emf = 11.099 [mV]\n"
     ]
    }
   ],
   "execution_count": 9
  },
  {
   "metadata": {},
   "cell_type": "markdown",
   "source": [
    "### Task 9\n",
    "\n",
    "The figure below shows a circular loop of wire of resistance R = 0.500 Ohm and radius r = 7.90 cm.\n",
    "\n",
    "All in the presence of a uniform magnetic field Bout directed out of the page.\n",
    "\n",
    "A clockwise current of I = 2.80 mA is induced in the loop."
   ],
   "id": "39ed70f6665386fd"
  },
  {
   "metadata": {
    "ExecuteTime": {
     "end_time": "2025-04-15T23:39:00.906923Z",
     "start_time": "2025-04-15T23:39:00.904652Z"
    }
   },
   "cell_type": "code",
   "source": [
    "R = 0.5\n",
    "r = 0.079\n",
    "dI = 0.0028\n",
    "\n",
    "emf = dI * R\n",
    "A = math.pi * r**2\n",
    "\n",
    "dBdt = emf / A\n",
    "print(f\"The rate at which the field is changing with time: {dBdt*1e3:.3f} [mT/s]\")\n",
    "# The rate at which the field is changing with time: 71.404 [mT/s]\n",
    "\n",
    "E = (dB * A) / (math.pi * (r / 2))\n",
    "print(f\"The magnitude of the induced electric field: {E:.4f} [V/m]\")\n",
    "# The magnitude of the induced electric field: 0.0113 [V/m]"
   ],
   "id": "59cfd2f664e11d31",
   "outputs": [
    {
     "name": "stdout",
     "output_type": "stream",
     "text": [
      "The rate at which the field is changing with time: 71.404 [mT/s]\n",
      "The magnitude of the induced electric field: 0.1580 [V/m]\n"
     ]
    }
   ],
   "execution_count": 10
  },
  {
   "metadata": {},
   "cell_type": "markdown",
   "source": [
    "### Task 10\n",
    "\n",
    "An air-core solenoid with 66 turns is 8.00 cm long and has a diameter of 1.20 cm.\n",
    "\n",
    "When the solenoid carries a current of 0.720 A, how much energy is stored in its magnetic field?"
   ],
   "id": "481f0df5218abaa4"
  },
  {
   "metadata": {
    "ExecuteTime": {
     "end_time": "2025-04-15T23:39:00.923035Z",
     "start_time": "2025-04-15T23:39:00.920667Z"
    }
   },
   "cell_type": "code",
   "source": [
    "N = 66\n",
    "d = 0.012\n",
    "I = 0.720\n",
    "l = 0.08\n",
    "\n",
    "A = math.pi * (d/2)**2\n",
    "L_inductance = (mu_0 * N**2 * A)/l\n",
    "W_solenoid = 1/2 * L_inductance * I**2\n",
    "print(f\"Energy stored: {W_solenoid*1e6:.3f} [micro J]\")\n",
    "# Energy stored: 2.006 [micro J]"
   ],
   "id": "cad467a7e859d437",
   "outputs": [
    {
     "name": "stdout",
     "output_type": "stream",
     "text": [
      "Energy stored: 2.006 [micro J]\n"
     ]
    }
   ],
   "execution_count": 11
  },
  {
   "metadata": {},
   "cell_type": "markdown",
   "source": [
    "### Task 11\n",
    "\n",
    "The switch in the figure below is connected to position a for a long time interval.\n",
    "\n",
    "At t = 0, the switch is thrown to position b.\n",
    "\n",
    "After this time, what are the following?\n",
    "\n",
    "Let C = 1.30 µF."
   ],
   "id": "74059b9ca43eb9db"
  },
  {
   "metadata": {
    "ExecuteTime": {
     "end_time": "2025-04-15T23:39:00.959035Z",
     "start_time": "2025-04-15T23:39:00.956210Z"
    }
   },
   "cell_type": "code",
   "source": [
    "C = 1.30e-6\n",
    "R = 10\n",
    "emf = 12\n",
    "L = 0.1\n",
    "t = 3\n",
    "\n",
    "freq = 1/(2*math.pi) * math.sqrt(1/(L*C))\n",
    "print(f\"The frequency of oscillation of the LC circuit: {freq:.3f} [Hz]\")\n",
    "# The frequency of oscillation of the LC circuit: 441.416 [Hz]\n",
    "\n",
    "Q_max = C * emf\n",
    "print(f\"The maximum charge that appears on the capacitor: {Q_max*1e6:.3f} [micro C]\")\n",
    "# The maximum charge that appears on the capacitor: 15.600 [micro C]\n",
    "\n",
    "I_max = Q_max / math.sqrt(L*C)\n",
    "print(f\"The maximum current in the inductor: {I_max*1e3:.3f} [mA]\")\n",
    "# The maximum current in the inductor: 43.267 [mA]\n",
    "\n",
    "U_total = Q_max**2 / (2 * C)\n",
    "U_3_sec = U_total * (math.cos(t / math.sqrt(L*C)) ** 2 + math.sin(t / math.sqrt(L*C)) ** 2)\n",
    "print(f\"The total energy the circuit possesses at t = 3 [s]: {U_3_sec*1e6:.3f} [micro J]\")\n",
    "# The total energy the circuit possesses at t = 3 [s]: 93.600 [micro J]"
   ],
   "id": "6a78c63d563b202d",
   "outputs": [
    {
     "name": "stdout",
     "output_type": "stream",
     "text": [
      "The frequency of oscillation of the LC circuit: 441.416 [Hz]\n",
      "The maximum charge that appears on the capacitor: 15.600 [micro C]\n",
      "The maximum current in the inductor: 43.267 [mA]\n",
      "The total energy the circuit possesses at t = 3 [s]: 93.600 [micro J]\n"
     ]
    }
   ],
   "execution_count": 12
  }
 ],
 "metadata": {
  "kernelspec": {
   "display_name": "Python 3",
   "language": "python",
   "name": "python3"
  },
  "language_info": {
   "codemirror_mode": {
    "name": "ipython",
    "version": 2
   },
   "file_extension": ".py",
   "mimetype": "text/x-python",
   "name": "python",
   "nbconvert_exporter": "python",
   "pygments_lexer": "ipython2",
   "version": "2.7.6"
  }
 },
 "nbformat": 4,
 "nbformat_minor": 5
}
