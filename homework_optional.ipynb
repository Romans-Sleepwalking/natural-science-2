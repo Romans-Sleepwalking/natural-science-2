{
 "cells": [
  {
   "metadata": {
    "ExecuteTime": {
     "end_time": "2025-04-15T23:39:09.989036Z",
     "start_time": "2025-04-15T23:39:09.943793Z"
    }
   },
   "cell_type": "code",
   "source": [
    "import numpy as np\n",
    "import math"
   ],
   "id": "4f5d26036a271b7b",
   "outputs": [],
   "execution_count": 1
  },
  {
   "metadata": {},
   "cell_type": "markdown",
   "source": [
    "## HW (optional) Electric fields.\n",
    "\n",
    "## HW (optional) Electric potential.\n",
    "\n",
    "## HW (optional) Current and Circuits.\n",
    "\n",
    "---\n",
    "\n",
    "&nbsp;\n",
    "\n",
    "### Task 1\n",
    "\n",
    "Three charged particles are located at the corners of an equilateral triangle as shown in the figure below\n",
    "\n",
    "Let q = 3.00 µC, and L = 0.470 m.\n",
    "\n",
    "Calculate the total electric force on the 7.00-µC charge."
   ],
   "id": "2419e649e8f051b1"
  },
  {
   "metadata": {
    "collapsed": true,
    "ExecuteTime": {
     "end_time": "2025-04-15T23:39:09.995461Z",
     "start_time": "2025-04-15T23:39:09.992068Z"
    }
   },
   "cell_type": "code",
   "source": [
    "q1 = 3e-6\n",
    "q2 = 7e-6\n",
    "q3 = -4e-6\n",
    "L = 0.470\n",
    "theta_deg = 60\n",
    "\n",
    "permettivity_of_freespace = 8.8542e-12\n",
    "k = 1 / (4 * math.pi * permettivity_of_freespace)\n",
    "\n",
    "def electric_force_magnitude(_q1, _q2, distance):\n",
    "    \"\"\".\"\"\"\n",
    "    return abs(k * (_q1 * _q2) / (distance**2))\n",
    "\n",
    "F12_magnitude = electric_force_magnitude(q1, q2, L)\n",
    "F32_magnitude = electric_force_magnitude(q3, q2, L)\n",
    "print(f\"Two force magnitudes: {F12_magnitude:.3f}N, {F32_magnitude:.3f}N\")\n",
    "# Two force magnitudes: 0.488N, 1.139N\n",
    "\n",
    "def add_vectors(mag_1, mag_2, theta1_deg, theta2_deg):\n",
    "    \"\"\"Cartesian components.\"\"\"\n",
    "    theta1_rad = math.radians(theta1_deg)\n",
    "    theta2_rad = math.radians(theta2_deg)\n",
    "    vec1 = mag_1 * np.array([np.cos(theta1_rad), np.sin(theta1_rad)])\n",
    "    vec2 = mag_2 * np.array([np.cos(theta2_rad), np.sin(theta2_rad)])\n",
    "    v_res = vec1 + vec2\n",
    "    v_mag = np.linalg.norm(v_res)\n",
    "    v_theta_def = np.degrees(np.arctan2(v_res[1], v_res[0]))\n",
    "    return v_mag, v_theta_def\n",
    "\n",
    "F, F_theta = add_vectors(\n",
    "    mag_1=F12_magnitude,\n",
    "    mag_2=F32_magnitude,\n",
    "    theta1_deg=60,\n",
    "    theta2_deg=-60,\n",
    ")\n",
    "F_theta = 360 + F_theta\n",
    "print(f\"Resulting force: {F:.3f} [N] at {F_theta:.3f} degrees\")\n",
    "# Resulting force: 1.027 [N] at 346.102 degrees"
   ],
   "id": "initial_id",
   "outputs": [
    {
     "name": "stdout",
     "output_type": "stream",
     "text": [
      "Two force magnitudes: 0.854N, 1.139N\n",
      "Resulting force: 1.027 [N] at 346.102 degrees\n"
     ]
    }
   ],
   "execution_count": 2
  },
  {
   "metadata": {},
   "cell_type": "markdown",
   "source": [
    "### Task 2\n",
    "\n",
    "Assume the magnitude of the electric field on each face of the cube of edge.\n",
    "\n",
    "L = 1.04 m in the figure below is uniform and the directions of the fields on each face are as indicated.\n",
    "\n",
    "Take E1 = 35.7 N/C and E2 = 27.1 N/C."
   ],
   "id": "f22b9bd4379ec006"
  },
  {
   "metadata": {
    "ExecuteTime": {
     "end_time": "2025-04-15T23:39:10.138182Z",
     "start_time": "2025-04-15T23:39:10.135325Z"
    }
   },
   "cell_type": "code",
   "source": [
    "L = 1.04\n",
    "E1 = 35.7\n",
    "E2 = 27.1\n",
    "E3 = 20\n",
    "E4 = 15\n",
    "\n",
    "side_area = L**2\n",
    "\n",
    "electric_fields_on_faces = [\n",
    "    (\"down\", E4),\n",
    "    (\"right\", -E1),\n",
    "    (\"out-of-screen\", E3),\n",
    "    (\"left\", E3),\n",
    "    (\"into-screen\", E3),\n",
    "    (\"up\", -E2),\n",
    "]\n",
    "\n",
    "Phi = sum([E * side_area for _, E in electric_fields_on_faces])\n",
    "print(f\"Net electric flux: {Phi:.3f} [N*m2/C]\")\n",
    "# Net electric flux: 13.196 [N*m2/C]\n",
    "\n",
    "q = Phi * permettivity_of_freespace\n",
    "print(f\"Net charge inside the cube: {q:.3e} [C]\")\n",
    "# Net charge inside the cube: 1.168e-10 [C]"
   ],
   "id": "5626df55017ae9b4",
   "outputs": [
    {
     "name": "stdout",
     "output_type": "stream",
     "text": [
      "Net electric flux: 13.196 [N*m2/C]\n",
      "Net charge inside the cube: 1.168e-10 [C]\n"
     ]
    }
   ],
   "execution_count": 3
  },
  {
   "metadata": {},
   "cell_type": "markdown",
   "source": [
    "### Task 3\n",
    "\n",
    "A cylindrical shell of radius 7.00 cm and length 2.49 m has its charge uniformly distributed on its curved surface.\n",
    "\n",
    "The magnitude of the electric field at a point 21.4 cm radially outward from its axis (measured from the midpoint of the shell) is 36.0 kN/C."
   ],
   "id": "81a70e042ab159a3"
  },
  {
   "metadata": {
    "ExecuteTime": {
     "end_time": "2025-04-15T23:39:10.150144Z",
     "start_time": "2025-04-15T23:39:10.147563Z"
    }
   },
   "cell_type": "code",
   "source": [
    "h = 2.49\n",
    "d1 = 0.214\n",
    "d2 = 0.040\n",
    "E1 = 36e3\n",
    "\n",
    "def latter_area(distance):\n",
    "    return 2 * math.pi * distance * h\n",
    "\n",
    "imaginary_latteral_area_1 = latter_area(d1)\n",
    "q = E1 * imaginary_latteral_area_1 * permettivity_of_freespace\n",
    "print(f\"Net charge on the shell: {q*1e9:.2f} [nC]\")\n",
    "# Net charge on the shell: 1067.20 [nC]\n",
    "\n",
    "imaginary_latteral_area_2 = latter_area(d2)\n",
    "E2 = q / (imaginary_latteral_area_2 * permettivity_of_freespace)\n",
    "print(f\"Electric field at a point 4.00 cm from the axis: {E2/1e3:.2f} [kN/C]\")\n",
    "# Electric field at a point 4.00 cm from the axis: 192.60 [kN/C]\n",
    "\n",
    "# Since the distance of second point is smaller than cylinder's radius, then E-field is zero"
   ],
   "id": "4ca50f648e33d57e",
   "outputs": [
    {
     "name": "stdout",
     "output_type": "stream",
     "text": [
      "Net charge on the shell: 1067.20 [nC]\n",
      "Electric field at a point 4.00 cm from the axis: 192.60 [kN/C]\n"
     ]
    }
   ],
   "execution_count": 4
  },
  {
   "metadata": {},
   "cell_type": "markdown",
   "source": [
    "### Task 4\n",
    "\n",
    "A uniform electric field of magnitude 305 V/m is directed in the negative y direction as shown in the figure below.\n",
    "\n",
    "The coordinates of point circled A are (−0.450, −0.700) m, and those of point circled B are (0.350, 0.650) m.\n",
    "\n",
    "Calculate the electric potential difference VB − VA using the dashed-line path."
   ],
   "id": "ba81be010d472eca"
  },
  {
   "metadata": {
    "ExecuteTime": {
     "end_time": "2025-04-15T23:39:10.162027Z",
     "start_time": "2025-04-15T23:39:10.159387Z"
    }
   },
   "cell_type": "code",
   "source": [
    "E_magnitude = 305\n",
    "a_coords = np.array([-0.450, -0.700])\n",
    "b_coords = np.array([0.350, 0.650])\n",
    "c_coords = np.array([-0.450, 0.650])\n",
    "\n",
    "displacement_1 = c_coords - a_coords\n",
    "displacement_2 = b_coords - c_coords\n",
    "print(f\"First move: dx={displacement_1[0]:.2f}, dy={displacement_1[1]:.2f} [m]\")\n",
    "print(f\"Second move: dx={displacement_2[0]:.2f}, dy={displacement_2[1]:.2f} [m]\")\n",
    "# First move: dx=0.00, dy=1.35 m\n",
    "# Second move: dx=0.80, dy=0.00 m\n",
    "\n",
    "el_potental_diff_1 = np.linalg.norm(displacement_1) * 1 * E_magnitude\n",
    "el_potental_diff_2 = np.linalg.norm(displacement_2) * 0 * E_magnitude\n",
    "el_potental_diff = el_potental_diff_1 + el_potental_diff_2\n",
    "print(f\"The electric potential difference: {el_potental_diff:.2f} [V]\")\n",
    "# The electric potential difference: 411.75 [V]"
   ],
   "id": "bb8338c996e0f092",
   "outputs": [
    {
     "name": "stdout",
     "output_type": "stream",
     "text": [
      "First move: dx=0.00, dy=1.35 [m]\n",
      "Second move: dx=0.80, dy=0.00 [m]\n",
      "The electric potential difference: 411.75 [V]\n"
     ]
    }
   ],
   "execution_count": 5
  },
  {
   "metadata": {},
   "cell_type": "markdown",
   "source": [
    "### Task 5\n",
    "\n",
    "Oppositely charged parallel plates are separated by 6.10 mm.\n",
    "\n",
    "A potential difference of 600 V exists between the plates."
   ],
   "id": "8e9adc44df580833"
  },
  {
   "metadata": {
    "ExecuteTime": {
     "end_time": "2025-04-15T23:39:10.184837Z",
     "start_time": "2025-04-15T23:39:10.182528Z"
    }
   },
   "cell_type": "code",
   "source": [
    "d = 6.10e-3\n",
    "delta_d = 2.98e-3\n",
    "V = 600\n",
    "q_e = 1.60217663e-19\n",
    "\n",
    "E_magnitude = abs(V / d)\n",
    "print(f\"The magnitude of the electric field between the plates: {E_magnitude:.2f} [N/C]\")\n",
    "# The magnitude of the electric field between the plates: 98360.66 [N/C]\n",
    "\n",
    "F = q_e * E_magnitude\n",
    "print(f\"The magnitude of the force on an electron between the plates: {F:.2e} [N]\")\n",
    "# The magnitude of the force on an electron between the plates: 1.58e-14 [N]\n",
    "\n",
    "dU = F * delta_d\n",
    "print(f\"Work must be done: {dU:.2e} [J]\")\n",
    "# Work must be done: 4.70e-17 [J]"
   ],
   "id": "2a6e9896bb88d4dd",
   "outputs": [
    {
     "name": "stdout",
     "output_type": "stream",
     "text": [
      "The magnitude of the electric field between the plates: 98360.66 [N/C]\n",
      "The magnitude of the force on an electron between the plates: 1.58e-14 [N]\n",
      "Work must be done: 4.70e-17 [J]\n"
     ]
    }
   ],
   "execution_count": 6
  },
  {
   "metadata": {},
   "cell_type": "markdown",
   "source": [
    "### Task 6\n",
    "\n",
    "Two point charges are located on the y-axis.\n",
    "\n",
    "One is at y = 1.00 m, the other is at y = −1.00 m.\n",
    "\n",
    "And they both have a charge of q = +2.70 µC."
   ],
   "id": "4e8d5161aea4ad45"
  },
  {
   "metadata": {
    "ExecuteTime": {
     "end_time": "2025-04-15T23:39:10.198426Z",
     "start_time": "2025-04-15T23:39:10.196225Z"
    }
   },
   "cell_type": "code",
   "source": [
    "q = 2.70e-6\n",
    "q1_coords = np.array([0, 1.00])\n",
    "q2_coords = np.array([0, -1.00])\n",
    "q3 = -3.70e-6\n",
    "\n",
    "point_coords = np.array([0.32, 0])\n",
    "point_distance = np.linalg.norm(point_coords - q1_coords)\n",
    "\n",
    "V = 2 * k * q / point_distance\n",
    "print(f\"The electric potential: {V/1e3:.2f} [kV]\")\n",
    "# The electric potential: 46.22 [kV]\n",
    "\n",
    "dU = q3 * V\n",
    "print(f\"Change in electric potential energy: {dU:.4f} [J]\")\n",
    "# Change in electric potential energy: -0.1710 [J]"
   ],
   "id": "e625d7f82b1b4d73",
   "outputs": [
    {
     "name": "stdout",
     "output_type": "stream",
     "text": [
      "The electric potential: 46.22 [kV]\n",
      "Change in electric potential energy: -0.1710 [J]\n"
     ]
    }
   ],
   "execution_count": 7
  },
  {
   "metadata": {},
   "cell_type": "markdown",
   "source": [
    "### Task 7\n",
    "\n",
    "A battery has an emf of 15.0 V.\n",
    "\n",
    "The terminal voltage of the battery is 9.6 V when it is delivering 22.0 W of power to an external load resistor R."
   ],
   "id": "ac44b57261ecb6c9"
  },
  {
   "metadata": {
    "ExecuteTime": {
     "end_time": "2025-04-15T23:39:10.217386Z",
     "start_time": "2025-04-15T23:39:10.215098Z"
    }
   },
   "cell_type": "code",
   "source": [
    "emf = 15\n",
    "dV = 9.6\n",
    "P = 22\n",
    "\n",
    "I = P / dV\n",
    "R = dV / I\n",
    "print(f\"An external load resistor: {R:.4f} [Ohm]\")\n",
    "# An external load resistor: 4.1891 [Ohm]\n",
    "\n",
    "r = (emf - dV) / I\n",
    "print(f\"Internal battery resistance: {r:.4f} [Ohm]\")\n",
    "# Internal battery resistance: 2.3564 [Ohm]"
   ],
   "id": "4ce41e37d24175be",
   "outputs": [
    {
     "name": "stdout",
     "output_type": "stream",
     "text": [
      "An external load resistor: 4.1891 [Ohm]\n",
      "Internal battery resistance: 2.3564 [Ohm]\n"
     ]
    }
   ],
   "execution_count": 8
  },
  {
   "metadata": {},
   "cell_type": "markdown",
   "source": [
    "### Task 8\n",
    "\n",
    "Calculate the power delivered to each resistor in the circuit shown in the figure below.\n",
    "\n",
    "Let R1 = 3.00 Ω, R2 = 2.00 Ω, and V = 15.0 V."
   ],
   "id": "39ed70f6665386fd"
  },
  {
   "metadata": {
    "ExecuteTime": {
     "end_time": "2025-04-15T23:39:10.236220Z",
     "start_time": "2025-04-15T23:39:10.233814Z"
    }
   },
   "cell_type": "code",
   "source": [
    "R1 = 3\n",
    "R2 = 2\n",
    "R3 = 1\n",
    "R4 = 4\n",
    "V = 15\n",
    "\n",
    "R23 = (1/R2 + 1/R3) ** -1\n",
    "R = R1 + R23 + R4\n",
    "I = V / R\n",
    "\n",
    "P1 = I**2 * R1\n",
    "P4 = I**2 * R4\n",
    "\n",
    "V23 = V - I * (R1 + R4)\n",
    "P2 = (V23 ** 2) / R2\n",
    "P3 = (V23 ** 2) / R3\n",
    "\n",
    "print(f\"P1 = {P1:.3f}, P2 = {P2:.3f}, P3 = {P3:.3f}, P4 = {P4:.3f} [W]\")\n",
    "# P1 = 11.484, P2 = 0.851, P3 = 1.701, P4 = 15.312 [W]"
   ],
   "id": "59cfd2f664e11d31",
   "outputs": [
    {
     "name": "stdout",
     "output_type": "stream",
     "text": [
      "P1 = 11.484, P2 = 0.851, P3 = 1.701, P4 = 15.312 [W]\n"
     ]
    }
   ],
   "execution_count": 9
  },
  {
   "metadata": {},
   "cell_type": "markdown",
   "source": [
    "### Task 9\n",
    "\n",
    "Consider the circuit shown in the figure below.\n",
    "\n",
    "R1 = 7.00 ohm, R2 = 5.00 ohm, and emf = 12.0 V."
   ],
   "id": "481f0df5218abaa4"
  },
  {
   "metadata": {
    "ExecuteTime": {
     "end_time": "2025-04-15T23:39:10.252186Z",
     "start_time": "2025-04-15T23:39:10.249498Z"
    }
   },
   "cell_type": "code",
   "source": [
    "R1 = 7\n",
    "R2 = 5\n",
    "R3 = 2\n",
    "R4 = 10\n",
    "R5 = 5\n",
    "emf = 12\n",
    "\n",
    "R45 = (1/R4 + 1/R5) ** -1\n",
    "R245 = R2 + R45\n",
    "R1245 = (1/R245 + 1/R1) ** -1\n",
    "R = R1 + R1245\n",
    "\n",
    "I = emf / R\n",
    "V1 = I * R1\n",
    "print(f\"Across R1: I={I:.2f} [A], V={V1:.2f} [V]\")\n",
    "# Across R1: I=1.11 [A], V=7.77 [V]"
   ],
   "id": "cad467a7e859d437",
   "outputs": [
    {
     "name": "stdout",
     "output_type": "stream",
     "text": [
      "Across R1: I=1.11 [A], V=7.77 [V]\n"
     ]
    }
   ],
   "execution_count": 10
  }
 ],
 "metadata": {
  "kernelspec": {
   "display_name": "Python 3",
   "language": "python",
   "name": "python3"
  },
  "language_info": {
   "codemirror_mode": {
    "name": "ipython",
    "version": 2
   },
   "file_extension": ".py",
   "mimetype": "text/x-python",
   "name": "python",
   "nbconvert_exporter": "python",
   "pygments_lexer": "ipython2",
   "version": "2.7.6"
  }
 },
 "nbformat": 4,
 "nbformat_minor": 5
}
