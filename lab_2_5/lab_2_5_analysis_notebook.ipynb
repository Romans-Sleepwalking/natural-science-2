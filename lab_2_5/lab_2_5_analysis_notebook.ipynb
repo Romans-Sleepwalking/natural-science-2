{
 "cells": [
  {
   "metadata": {},
   "cell_type": "markdown",
   "source": [
    "# Laboratory work 2.5\n",
    "\n",
    "### Horizontal component of Earth's magnetic field.\n",
    "\n",
    "Objectives:\n",
    "1. Make a plot of I vs. tan(phi). For each data point plot an error bar based on your\n",
    "measurement error of both I and phi.\n",
    "2. Draw a best fit straight line from the origin (point I =0, tan( phi) = 0) of your plot through the\n",
    "data points (with their error bars). You do not have to do a mathematical calculation for\n",
    "the line. Just use your judgement for what is the best fit and draw it “by hand”. It might be\n",
    "the case that a data point or two even with their error bars are not on the line.\n",
    "3. Draw additional two straight lines from the origin - one steeper than your best fit line and\n",
    "one less steep than your best fit line. Draw the lines in such a way that they would\n",
    "correspond to a reasonable range for your best fit line.\n",
    "4. Use your plot to determine the slope for each of the three lines. Use this value of slope to\n",
    "calculate your experimental value of Earth’s magnetic field B0. You should obtain three\n",
    "values – one from each of the lines. Your best fit line will give you your result. The other\n",
    "two lines will provide bounds for your final result.\n",
    "Error analysis\n",
    "5. Separately do a calculation of B0 for one measurement of I and phi.\n",
    "6. For this one measurement calculate the partial error of B0 with respect to I, the partial\n",
    "error of B0 with respect to phi, and the partial error of B0 with respect to R.\n",
    "7. Calculate the absolute error of B0 by appropriately combining the partial errors.\n",
    "Conclusions\n",
    "8. Compare your obtained value of B0 to the given value. Does the given value fall in the\n",
    "bounds of your experimentally obtained value?\n",
    "9. Comment on the plot. According to theory, data points should lie along a straight line. Is\n",
    "that the case in your plot?\n",
    "10. Comment on the partial errors – which partial error is the largest?\n",
    "11. What are the main sources of errors? What are your suggestions for improvements?\n",
    "\n",
    "### Summary\n",
    "\n",
    "* **The given book value of Earth's magnetic field induction does fall within the bounds of the experimentally obtained value.**\n",
    "The fifth observation's calculated Earth's magnetic field induction is 13.75 micro teslas, 18.2% less than a book value in Riga.\n",
    "However, the error margin of ±3.57 micro teslas correctly estimated that the book value could be 18.2% higher than the expected value of 13.75 micro teslas.\n",
    "The geometric slope approach demonstrated that the overall expected value of the Earth's magnetic field induction is 13.41 microteslas.\n",
    "\n",
    "* **The line chart reveals human errors during measurement.**\n",
    "The current/tangent chart points should make a straight line because their slope must be constant.\n",
    "The magnetic field of Earth, the radius of the loop and the number of turns are constants; therefore, the relationship must be linear.\n",
    "Small deviations from the line indicate that the measurement approach was inconsistent, which is a human error.\n",
    "\n",
    "* **The geometric approach to estimating errors was incorrect.**\n",
    "The confidence interval of upper and lower line slopes is too narrow: [-0.5, +1.0] micro teslas.\n",
    "It does not contain the book value and is significantly off what it should be.\n",
    "First, the geometric approach was based on arbitrarily drawn lines to determine the upper and lower boundaries.\n",
    "The correct approach to drawing upper and lower boundaries needs a proper methodology.\n",
    "Secondly, it does not consider the partial error of measuring coil radius, although its partial error was small.\n",
    "\n",
    "* **The largest partial error is the tangent of phi.**\n",
    "Its absolute value was 3.26, roughly three times greater than the current's partial error.\n",
    "The tangent of phi is based on the phi angle's measurements using a compass with a precision class of 1 degree.\n",
    "Hence, to get more accurate measurements, conducting the experiment again and using a more precise compass or angle measurement would lead to the best improvement.\n",
    "\n",
    "* **The line chart demonstrates the overall systematic error as an offset of the line's trend.**\n",
    "Although random errors are visible, these are not as significant as the general offset of the line's trend from the expected book value.\n",
    "The expected line's slope should be 20% steeper; therefore, the current should be relatively more significant, or the angle phi should be relatively smaller.\n",
    "On the other hand, it could be the noise of the magnetic field that took place during the experiment. Please review the setup to see if the amperemeter provided the correct measurements, and check that all electronic devices nearby are switched off."
   ],
   "id": "a54c9f2567229dcf"
  },
  {
   "metadata": {
    "ExecuteTime": {
     "end_time": "2025-04-18T03:00:35.025268Z",
     "start_time": "2025-04-18T03:00:35.016463Z"
    }
   },
   "cell_type": "code",
   "source": [
    "import math\n",
    "import numpy as np\n",
    "import pandas as pd\n",
    "import plotly.graph_objects as go\n",
    "from sklearn.linear_model import LinearRegression"
   ],
   "id": "f8bfd9cfff51bffc",
   "outputs": [],
   "execution_count": 19
  },
  {
   "metadata": {},
   "cell_type": "markdown",
   "source": "### Experiment setting",
   "id": "15bf68f556a844"
  },
  {
   "metadata": {
    "ExecuteTime": {
     "end_time": "2025-04-18T03:00:35.035453Z",
     "start_time": "2025-04-18T03:00:35.033090Z"
    }
   },
   "cell_type": "code",
   "source": [
    "mu_0 = 1.256637e-6\n",
    "B_0_riga_teslas = 0.168e-4\n",
    "\n",
    "loop_radius_meters = 0.18\n",
    "n_coil_turns = 3\n",
    "\n",
    "compass_error_deg = 1\n",
    "ammeter_error_amps = 0.5\n",
    "loop_radius_error_meters = 0.005"
   ],
   "id": "3ec777acef55c473",
   "outputs": [],
   "execution_count": 20
  },
  {
   "metadata": {},
   "cell_type": "markdown",
   "source": [
    "### Read observations\n",
    "\n",
    "* Observation are experiments per current $ I $ setting\n",
    "* Aggregate $ \\phi $ measurements in a list per observation\n",
    "* Calculate statistics of $ \\phi $"
   ],
   "id": "9af733b9d0736d56"
  },
  {
   "metadata": {
    "ExecuteTime": {
     "end_time": "2025-04-18T03:00:35.071656Z",
     "start_time": "2025-04-18T03:00:35.064825Z"
    }
   },
   "cell_type": "code",
   "source": [
    "observed_df = pd.read_csv(\"lab_2_5_observations.csv\")\n",
    "observed_df"
   ],
   "id": "e9e18fdc07c670dd",
   "outputs": [
    {
     "data": {
      "text/plain": [
       "   current_amps  phi_1_deg  phi_2_deg\n",
       "0           1.0       40.0       36.0\n",
       "1           1.4       44.0       42.0\n",
       "2           2.1       60.0       52.0\n",
       "3           2.9       65.0       62.0\n",
       "4           3.6       72.0       68.0\n",
       "5           4.9       78.0       72.0"
      ],
      "text/html": [
       "<div>\n",
       "<style scoped>\n",
       "    .dataframe tbody tr th:only-of-type {\n",
       "        vertical-align: middle;\n",
       "    }\n",
       "\n",
       "    .dataframe tbody tr th {\n",
       "        vertical-align: top;\n",
       "    }\n",
       "\n",
       "    .dataframe thead th {\n",
       "        text-align: right;\n",
       "    }\n",
       "</style>\n",
       "<table border=\"1\" class=\"dataframe\">\n",
       "  <thead>\n",
       "    <tr style=\"text-align: right;\">\n",
       "      <th></th>\n",
       "      <th>current_amps</th>\n",
       "      <th>phi_1_deg</th>\n",
       "      <th>phi_2_deg</th>\n",
       "    </tr>\n",
       "  </thead>\n",
       "  <tbody>\n",
       "    <tr>\n",
       "      <th>0</th>\n",
       "      <td>1.0</td>\n",
       "      <td>40.0</td>\n",
       "      <td>36.0</td>\n",
       "    </tr>\n",
       "    <tr>\n",
       "      <th>1</th>\n",
       "      <td>1.4</td>\n",
       "      <td>44.0</td>\n",
       "      <td>42.0</td>\n",
       "    </tr>\n",
       "    <tr>\n",
       "      <th>2</th>\n",
       "      <td>2.1</td>\n",
       "      <td>60.0</td>\n",
       "      <td>52.0</td>\n",
       "    </tr>\n",
       "    <tr>\n",
       "      <th>3</th>\n",
       "      <td>2.9</td>\n",
       "      <td>65.0</td>\n",
       "      <td>62.0</td>\n",
       "    </tr>\n",
       "    <tr>\n",
       "      <th>4</th>\n",
       "      <td>3.6</td>\n",
       "      <td>72.0</td>\n",
       "      <td>68.0</td>\n",
       "    </tr>\n",
       "    <tr>\n",
       "      <th>5</th>\n",
       "      <td>4.9</td>\n",
       "      <td>78.0</td>\n",
       "      <td>72.0</td>\n",
       "    </tr>\n",
       "  </tbody>\n",
       "</table>\n",
       "</div>"
      ]
     },
     "execution_count": 21,
     "metadata": {},
     "output_type": "execute_result"
    }
   ],
   "execution_count": 21
  },
  {
   "metadata": {
    "ExecuteTime": {
     "end_time": "2025-04-18T03:00:35.117192Z",
     "start_time": "2025-04-18T03:00:35.109813Z"
    }
   },
   "cell_type": "code",
   "source": [
    "observed_df[\"num_measurements\"] = 2\n",
    "observed_df[\"phi_deg\"] = observed_df[[\"phi_1_deg\", \"phi_2_deg\"]].values.tolist()\n",
    "df = observed_df[[\"current_amps\", \"phi_deg\"]].copy()\n",
    "df[\"num_measurements\"] = observed_df[\"phi_deg\"].apply(len)\n",
    "df[\"mean_phi_deg\"] = observed_df[\"phi_deg\"].apply(np.mean)\n",
    "df[\"var_phi_deg\"] = observed_df[\"phi_deg\"].apply(np.var)\n",
    "df[\"std_phi_deg\"] = observed_df[\"phi_deg\"].apply(np.std)\n",
    "df"
   ],
   "id": "2b02251678833253",
   "outputs": [
    {
     "data": {
      "text/plain": [
       "   current_amps       phi_deg  num_measurements  mean_phi_deg  var_phi_deg  \\\n",
       "0           1.0  [40.0, 36.0]                 2          38.0         4.00   \n",
       "1           1.4  [44.0, 42.0]                 2          43.0         1.00   \n",
       "2           2.1  [60.0, 52.0]                 2          56.0        16.00   \n",
       "3           2.9  [65.0, 62.0]                 2          63.5         2.25   \n",
       "4           3.6  [72.0, 68.0]                 2          70.0         4.00   \n",
       "5           4.9  [78.0, 72.0]                 2          75.0         9.00   \n",
       "\n",
       "   std_phi_deg  \n",
       "0          2.0  \n",
       "1          1.0  \n",
       "2          4.0  \n",
       "3          1.5  \n",
       "4          2.0  \n",
       "5          3.0  "
      ],
      "text/html": [
       "<div>\n",
       "<style scoped>\n",
       "    .dataframe tbody tr th:only-of-type {\n",
       "        vertical-align: middle;\n",
       "    }\n",
       "\n",
       "    .dataframe tbody tr th {\n",
       "        vertical-align: top;\n",
       "    }\n",
       "\n",
       "    .dataframe thead th {\n",
       "        text-align: right;\n",
       "    }\n",
       "</style>\n",
       "<table border=\"1\" class=\"dataframe\">\n",
       "  <thead>\n",
       "    <tr style=\"text-align: right;\">\n",
       "      <th></th>\n",
       "      <th>current_amps</th>\n",
       "      <th>phi_deg</th>\n",
       "      <th>num_measurements</th>\n",
       "      <th>mean_phi_deg</th>\n",
       "      <th>var_phi_deg</th>\n",
       "      <th>std_phi_deg</th>\n",
       "    </tr>\n",
       "  </thead>\n",
       "  <tbody>\n",
       "    <tr>\n",
       "      <th>0</th>\n",
       "      <td>1.0</td>\n",
       "      <td>[40.0, 36.0]</td>\n",
       "      <td>2</td>\n",
       "      <td>38.0</td>\n",
       "      <td>4.00</td>\n",
       "      <td>2.0</td>\n",
       "    </tr>\n",
       "    <tr>\n",
       "      <th>1</th>\n",
       "      <td>1.4</td>\n",
       "      <td>[44.0, 42.0]</td>\n",
       "      <td>2</td>\n",
       "      <td>43.0</td>\n",
       "      <td>1.00</td>\n",
       "      <td>1.0</td>\n",
       "    </tr>\n",
       "    <tr>\n",
       "      <th>2</th>\n",
       "      <td>2.1</td>\n",
       "      <td>[60.0, 52.0]</td>\n",
       "      <td>2</td>\n",
       "      <td>56.0</td>\n",
       "      <td>16.00</td>\n",
       "      <td>4.0</td>\n",
       "    </tr>\n",
       "    <tr>\n",
       "      <th>3</th>\n",
       "      <td>2.9</td>\n",
       "      <td>[65.0, 62.0]</td>\n",
       "      <td>2</td>\n",
       "      <td>63.5</td>\n",
       "      <td>2.25</td>\n",
       "      <td>1.5</td>\n",
       "    </tr>\n",
       "    <tr>\n",
       "      <th>4</th>\n",
       "      <td>3.6</td>\n",
       "      <td>[72.0, 68.0]</td>\n",
       "      <td>2</td>\n",
       "      <td>70.0</td>\n",
       "      <td>4.00</td>\n",
       "      <td>2.0</td>\n",
       "    </tr>\n",
       "    <tr>\n",
       "      <th>5</th>\n",
       "      <td>4.9</td>\n",
       "      <td>[78.0, 72.0]</td>\n",
       "      <td>2</td>\n",
       "      <td>75.0</td>\n",
       "      <td>9.00</td>\n",
       "      <td>3.0</td>\n",
       "    </tr>\n",
       "  </tbody>\n",
       "</table>\n",
       "</div>"
      ]
     },
     "execution_count": 22,
     "metadata": {},
     "output_type": "execute_result"
    }
   ],
   "execution_count": 22
  },
  {
   "metadata": {},
   "cell_type": "markdown",
   "source": [
    "### Estimate direct measurement errors\n",
    "\n",
    "* For two measurements, an absolute error is equal to one standard deviation\n",
    "\n",
    "* $ \\text{Total error} =  \\sqrt{\\text{random error}^2 + \\text{systematic error}^2 } $:\n",
    "  * $ \\text{Total error}_\\phi = \\sqrt{\\text{random error}_\\phi^2 + (1)^2} \\space [\\degree]$\n",
    "  * $ \\text{Total error}_I = \\sqrt{(0)^2 + (0.5)^2} \\space [A]$\n",
    "  * $ \\text{Total error}_r = \\sqrt{(0)^2 + (0.005)^2} \\space [m]$\n"
   ],
   "id": "bab6b073e9ceed37"
  },
  {
   "metadata": {
    "ExecuteTime": {
     "end_time": "2025-04-18T03:00:35.183346Z",
     "start_time": "2025-04-18T03:00:35.178609Z"
    }
   },
   "cell_type": "code",
   "source": [
    "df[\"current_error_amps\"] = ammeter_error_amps\n",
    "df[[\"current_amps\", \"current_error_amps\"]]"
   ],
   "id": "e108027328d69c3e",
   "outputs": [
    {
     "data": {
      "text/plain": [
       "   current_amps  current_error_amps\n",
       "0           1.0                 0.5\n",
       "1           1.4                 0.5\n",
       "2           2.1                 0.5\n",
       "3           2.9                 0.5\n",
       "4           3.6                 0.5\n",
       "5           4.9                 0.5"
      ],
      "text/html": [
       "<div>\n",
       "<style scoped>\n",
       "    .dataframe tbody tr th:only-of-type {\n",
       "        vertical-align: middle;\n",
       "    }\n",
       "\n",
       "    .dataframe tbody tr th {\n",
       "        vertical-align: top;\n",
       "    }\n",
       "\n",
       "    .dataframe thead th {\n",
       "        text-align: right;\n",
       "    }\n",
       "</style>\n",
       "<table border=\"1\" class=\"dataframe\">\n",
       "  <thead>\n",
       "    <tr style=\"text-align: right;\">\n",
       "      <th></th>\n",
       "      <th>current_amps</th>\n",
       "      <th>current_error_amps</th>\n",
       "    </tr>\n",
       "  </thead>\n",
       "  <tbody>\n",
       "    <tr>\n",
       "      <th>0</th>\n",
       "      <td>1.0</td>\n",
       "      <td>0.5</td>\n",
       "    </tr>\n",
       "    <tr>\n",
       "      <th>1</th>\n",
       "      <td>1.4</td>\n",
       "      <td>0.5</td>\n",
       "    </tr>\n",
       "    <tr>\n",
       "      <th>2</th>\n",
       "      <td>2.1</td>\n",
       "      <td>0.5</td>\n",
       "    </tr>\n",
       "    <tr>\n",
       "      <th>3</th>\n",
       "      <td>2.9</td>\n",
       "      <td>0.5</td>\n",
       "    </tr>\n",
       "    <tr>\n",
       "      <th>4</th>\n",
       "      <td>3.6</td>\n",
       "      <td>0.5</td>\n",
       "    </tr>\n",
       "    <tr>\n",
       "      <th>5</th>\n",
       "      <td>4.9</td>\n",
       "      <td>0.5</td>\n",
       "    </tr>\n",
       "  </tbody>\n",
       "</table>\n",
       "</div>"
      ]
     },
     "execution_count": 23,
     "metadata": {},
     "output_type": "execute_result"
    }
   ],
   "execution_count": 23
  },
  {
   "metadata": {
    "ExecuteTime": {
     "end_time": "2025-04-18T03:00:35.277124Z",
     "start_time": "2025-04-18T03:00:35.271486Z"
    }
   },
   "cell_type": "code",
   "source": [
    "df[\"random_err_phi_deg\"] = df[\"std_phi_deg\"] / np.sqrt(df[\"num_measurements\"])\n",
    "df[\"systematic_err_phi_deg\"] = compass_error_deg\n",
    "df[\"total_err_phi_deg\"] = np.sqrt(df[\"random_err_phi_deg\"]**2 + df[\"systematic_err_phi_deg\"]**2)\n",
    "df[[\"mean_phi_deg\", \"random_err_phi_deg\", \"systematic_err_phi_deg\", \"total_err_phi_deg\"]]"
   ],
   "id": "2388c7b0b9d202df",
   "outputs": [
    {
     "data": {
      "text/plain": [
       "   mean_phi_deg  random_err_phi_deg  systematic_err_phi_deg  total_err_phi_deg\n",
       "0          38.0            1.414214                       1           1.732051\n",
       "1          43.0            0.707107                       1           1.224745\n",
       "2          56.0            2.828427                       1           3.000000\n",
       "3          63.5            1.060660                       1           1.457738\n",
       "4          70.0            1.414214                       1           1.732051\n",
       "5          75.0            2.121320                       1           2.345208"
      ],
      "text/html": [
       "<div>\n",
       "<style scoped>\n",
       "    .dataframe tbody tr th:only-of-type {\n",
       "        vertical-align: middle;\n",
       "    }\n",
       "\n",
       "    .dataframe tbody tr th {\n",
       "        vertical-align: top;\n",
       "    }\n",
       "\n",
       "    .dataframe thead th {\n",
       "        text-align: right;\n",
       "    }\n",
       "</style>\n",
       "<table border=\"1\" class=\"dataframe\">\n",
       "  <thead>\n",
       "    <tr style=\"text-align: right;\">\n",
       "      <th></th>\n",
       "      <th>mean_phi_deg</th>\n",
       "      <th>random_err_phi_deg</th>\n",
       "      <th>systematic_err_phi_deg</th>\n",
       "      <th>total_err_phi_deg</th>\n",
       "    </tr>\n",
       "  </thead>\n",
       "  <tbody>\n",
       "    <tr>\n",
       "      <th>0</th>\n",
       "      <td>38.0</td>\n",
       "      <td>1.414214</td>\n",
       "      <td>1</td>\n",
       "      <td>1.732051</td>\n",
       "    </tr>\n",
       "    <tr>\n",
       "      <th>1</th>\n",
       "      <td>43.0</td>\n",
       "      <td>0.707107</td>\n",
       "      <td>1</td>\n",
       "      <td>1.224745</td>\n",
       "    </tr>\n",
       "    <tr>\n",
       "      <th>2</th>\n",
       "      <td>56.0</td>\n",
       "      <td>2.828427</td>\n",
       "      <td>1</td>\n",
       "      <td>3.000000</td>\n",
       "    </tr>\n",
       "    <tr>\n",
       "      <th>3</th>\n",
       "      <td>63.5</td>\n",
       "      <td>1.060660</td>\n",
       "      <td>1</td>\n",
       "      <td>1.457738</td>\n",
       "    </tr>\n",
       "    <tr>\n",
       "      <th>4</th>\n",
       "      <td>70.0</td>\n",
       "      <td>1.414214</td>\n",
       "      <td>1</td>\n",
       "      <td>1.732051</td>\n",
       "    </tr>\n",
       "    <tr>\n",
       "      <th>5</th>\n",
       "      <td>75.0</td>\n",
       "      <td>2.121320</td>\n",
       "      <td>1</td>\n",
       "      <td>2.345208</td>\n",
       "    </tr>\n",
       "  </tbody>\n",
       "</table>\n",
       "</div>"
      ]
     },
     "execution_count": 24,
     "metadata": {},
     "output_type": "execute_result"
    }
   ],
   "execution_count": 24
  },
  {
   "metadata": {},
   "cell_type": "markdown",
   "source": [
    "### Calculate tan($ \\phi $)\n",
    "\n",
    "* Convert degrees to radians\n",
    "* Estimate indirect errors for tangent:\n",
    "  * $ \\sigma = | \\frac{d(tan(\\phi))}{d\\phi} | \\cdot \\sigma_\\phi  = | sec^2(\\phi) | \\cdot \\sigma_\\phi $"
   ],
   "id": "4d6290637802dc6e"
  },
  {
   "metadata": {
    "ExecuteTime": {
     "end_time": "2025-04-18T03:00:35.401776Z",
     "start_time": "2025-04-18T03:00:35.395587Z"
    }
   },
   "cell_type": "code",
   "source": [
    "def secant_squared(num):\n",
    "    \"\"\" sec^2(num). \"\"\"\n",
    "    return 1 / (math.cos(num) ** 2)\n",
    "\n",
    "df[\"mean_phi_rad\"] = df[\"mean_phi_deg\"].apply(np.deg2rad)\n",
    "df[\"total_err_phi_rad\"] = df[\"total_err_phi_deg\"].apply(np.deg2rad)\n",
    "df[\"tan_phi\"] = df[\"mean_phi_rad\"].apply(np.tan)\n",
    "df[\"sec_sq_phi\"] = df[\"mean_phi_rad\"].apply(secant_squared)\n",
    "df[\"total_err_tan_phi\"] = df[\"sec_sq_phi\"] * df[\"total_err_phi_rad\"]\n",
    "df[[\"tan_phi\", \"total_err_tan_phi\"]]"
   ],
   "id": "b228b9c8ad8e5f1",
   "outputs": [
    {
     "data": {
      "text/plain": [
       "    tan_phi  total_err_tan_phi\n",
       "0  0.781286           0.048683\n",
       "1  0.932515           0.039964\n",
       "2  1.482561           0.167446\n",
       "3  2.005690           0.127791\n",
       "4  2.747477           0.258425\n",
       "5  3.732051           0.611035"
      ],
      "text/html": [
       "<div>\n",
       "<style scoped>\n",
       "    .dataframe tbody tr th:only-of-type {\n",
       "        vertical-align: middle;\n",
       "    }\n",
       "\n",
       "    .dataframe tbody tr th {\n",
       "        vertical-align: top;\n",
       "    }\n",
       "\n",
       "    .dataframe thead th {\n",
       "        text-align: right;\n",
       "    }\n",
       "</style>\n",
       "<table border=\"1\" class=\"dataframe\">\n",
       "  <thead>\n",
       "    <tr style=\"text-align: right;\">\n",
       "      <th></th>\n",
       "      <th>tan_phi</th>\n",
       "      <th>total_err_tan_phi</th>\n",
       "    </tr>\n",
       "  </thead>\n",
       "  <tbody>\n",
       "    <tr>\n",
       "      <th>0</th>\n",
       "      <td>0.781286</td>\n",
       "      <td>0.048683</td>\n",
       "    </tr>\n",
       "    <tr>\n",
       "      <th>1</th>\n",
       "      <td>0.932515</td>\n",
       "      <td>0.039964</td>\n",
       "    </tr>\n",
       "    <tr>\n",
       "      <th>2</th>\n",
       "      <td>1.482561</td>\n",
       "      <td>0.167446</td>\n",
       "    </tr>\n",
       "    <tr>\n",
       "      <th>3</th>\n",
       "      <td>2.005690</td>\n",
       "      <td>0.127791</td>\n",
       "    </tr>\n",
       "    <tr>\n",
       "      <th>4</th>\n",
       "      <td>2.747477</td>\n",
       "      <td>0.258425</td>\n",
       "    </tr>\n",
       "    <tr>\n",
       "      <th>5</th>\n",
       "      <td>3.732051</td>\n",
       "      <td>0.611035</td>\n",
       "    </tr>\n",
       "  </tbody>\n",
       "</table>\n",
       "</div>"
      ]
     },
     "execution_count": 25,
     "metadata": {},
     "output_type": "execute_result"
    }
   ],
   "execution_count": 25
  },
  {
   "metadata": {},
   "cell_type": "markdown",
   "source": [
    "### Model the relationship between current and tangent of $ \\phi $\n",
    "\n",
    "* Fit a linear regression model\n",
    "* Extrapolate over the range of $ \\phi $\n"
   ],
   "id": "e894c9eb51eef3f2"
  },
  {
   "metadata": {
    "ExecuteTime": {
     "end_time": "2025-04-18T03:00:35.588245Z",
     "start_time": "2025-04-18T03:00:35.584611Z"
    }
   },
   "cell_type": "code",
   "source": [
    "X = df[\"tan_phi\"].values.reshape(-1, 1)\n",
    "y = df[\"current_amps\"].values\n",
    "model = LinearRegression()\n",
    "model.fit(X, y)\n",
    "tan_phi_range = np.linspace(df[\"tan_phi\"].min()-0.25, df[\"tan_phi\"].max()+1.00, 200).reshape(-1, 1)\n",
    "current_extrapolated = model.predict(tan_phi_range)"
   ],
   "id": "9e68d58080f2054",
   "outputs": [],
   "execution_count": 26
  },
  {
   "metadata": {},
   "cell_type": "markdown",
   "source": [
    "### Add \"best-fit\" error lines to the model\n",
    "\n",
    "* Hardcode points by \"hand\"\n",
    "* Extrapolate over points added by \"hand\"\n"
   ],
   "id": "44089381c64b9169"
  },
  {
   "metadata": {
    "ExecuteTime": {
     "end_time": "2025-04-18T03:00:35.681653Z",
     "start_time": "2025-04-18T03:00:35.676621Z"
    }
   },
   "cell_type": "code",
   "source": [
    "# Hardcode upper points by hand\n",
    "upper_X = np.array([\n",
    "    df[\"tan_phi\"].iloc[1],\n",
    "    df[\"tan_phi\"].iloc[5] - df[\"total_err_tan_phi\"].iloc[5],\n",
    "]).reshape(-1, 1)\n",
    "upper_y = np.array([\n",
    "    df[\"current_amps\"].iloc[1] + df[\"current_error_amps\"].iloc[1],\n",
    "    df[\"current_amps\"].iloc[5],\n",
    "])\n",
    "upper_model = LinearRegression()\n",
    "upper_model.fit(upper_X, upper_y)\n",
    "upper_current_extrapolated = upper_model.predict(tan_phi_range)"
   ],
   "id": "ec393f4ea68ac55",
   "outputs": [],
   "execution_count": 27
  },
  {
   "metadata": {
    "ExecuteTime": {
     "end_time": "2025-04-18T03:00:35.711535Z",
     "start_time": "2025-04-18T03:00:35.708561Z"
    }
   },
   "cell_type": "code",
   "source": [
    "# Hardcode lower points by hand\n",
    "lower_X = np.array([\n",
    "    df[\"tan_phi\"].iloc[0],\n",
    "    df[\"tan_phi\"].iloc[5] + df[\"total_err_tan_phi\"].iloc[5],\n",
    "]).reshape(-1, 1)\n",
    "lower_y = np.array([\n",
    "    df[\"current_amps\"].iloc[0] - df[\"current_error_amps\"].iloc[0],\n",
    "    df[\"current_amps\"].iloc[5],\n",
    "])\n",
    "lower_model = LinearRegression()\n",
    "lower_model.fit(lower_X, lower_y)\n",
    "lower_current_extrapolated = lower_model.predict(tan_phi_range)"
   ],
   "id": "18edbb68f646a1c5",
   "outputs": [],
   "execution_count": 28
  },
  {
   "metadata": {
    "ExecuteTime": {
     "end_time": "2025-04-18T03:00:35.812689Z",
     "start_time": "2025-04-18T03:00:35.793135Z"
    }
   },
   "cell_type": "code",
   "source": [
    "fig = go.Figure()\n",
    "fig.add_trace(go.Scatter(\n",
    "    x=df[\"tan_phi\"],\n",
    "    y=df[\"current_amps\"],\n",
    "    mode=\"markers\",\n",
    "    error_x=dict(\n",
    "        type=\"data\",\n",
    "        array=df[\"total_err_tan_phi\"],\n",
    "        visible=True,\n",
    "        symmetric=True,\n",
    "    ),\n",
    "    error_y=dict(\n",
    "        type=\"data\",\n",
    "        array=df[\"current_error_amps\"],\n",
    "        visible=True,\n",
    "        symmetric=True,\n",
    "    ),\n",
    "    marker=dict(size=8, color=\"blue\"),\n",
    "    name=\"Observations with error bars\",\n",
    "))\n",
    "fig.add_trace(go.Scatter(\n",
    "    x=tan_phi_range.flatten(),\n",
    "    y=lower_current_extrapolated,\n",
    "    mode=\"lines\",\n",
    "    line=dict(color=\"green\", dash=\"dot\"),\n",
    "    name=\"Lower bound\"\n",
    "))\n",
    "fig.add_trace(go.Scatter(\n",
    "    x=tan_phi_range.flatten(),\n",
    "    y=upper_current_extrapolated,\n",
    "    mode=\"lines\",\n",
    "    line=dict(color=\"green\", dash=\"dot\"),\n",
    "    name=\"Upper bound\"\n",
    "))\n",
    "fig.add_trace(go.Scatter(\n",
    "    x=tan_phi_range.flatten(),\n",
    "    y=current_extrapolated,\n",
    "    mode=\"lines\",\n",
    "    line=dict(color=\"red\", width=2),\n",
    "    name=\"Extrapolated line\",\n",
    "))\n",
    "fig.update_layout(\n",
    "    title=dict(\n",
    "        text=\"Observed current and tangent of phi\",\n",
    "        x=0.5,\n",
    "        xanchor=\"center\",\n",
    "    ),\n",
    "    xaxis=dict(\n",
    "        title=\"tangent of phi\",\n",
    "        range=[0, 5.1],\n",
    "    ),\n",
    "    yaxis=dict(\n",
    "        title=\"Current, amps\",\n",
    "        range=[0, 6.1]\n",
    "    ),\n",
    "    template=\"plotly_white\",\n",
    "    legend=dict(\n",
    "        orientation=\"h\",\n",
    "        yanchor=\"bottom\",\n",
    "        y=-0.3,\n",
    "        xanchor=\"center\",\n",
    "        x=0.5\n",
    "    )\n",
    ")\n",
    "fig.show()"
   ],
   "id": "759e3571b98a6a0",
   "outputs": [
    {
     "data": {
      "application/vnd.plotly.v1+json": {
       "data": [
        {
         "error_x": {
          "array": [
           0.048682593504492395,
           0.03996391894293993,
           0.16744620908563984,
           0.12779149768037792,
           0.2584250599294554,
           0.6110352306241315
          ],
          "symmetric": true,
          "type": "data",
          "visible": true
         },
         "error_y": {
          "array": [
           0.5,
           0.5,
           0.5,
           0.5,
           0.5,
           0.5
          ],
          "symmetric": true,
          "type": "data",
          "visible": true
         },
         "marker": {
          "color": "blue",
          "size": 8
         },
         "mode": "markers",
         "name": "Observations with error bars",
         "x": [
          0.7812856265067175,
          0.9325150861376617,
          1.48256096851274,
          2.00568970825902,
          2.747477419454621,
          3.7320508075688776
         ],
         "y": [
          1.0,
          1.4,
          2.1,
          2.9,
          3.6,
          4.9
         ],
         "type": "scatter"
        },
        {
         "line": {
          "color": "green",
          "dash": "dot"
         },
         "mode": "lines",
         "name": "Lower bound",
         "x": [
          0.5312856265067175,
          0.5523949992758741,
          0.5735043720450307,
          0.5946137448141873,
          0.6157231175833439,
          0.6368324903525004,
          0.657941863121657,
          0.6790512358908136,
          0.7001606086599702,
          0.7212699814291268,
          0.7423793541982834,
          0.76348872696744,
          0.7845980997365966,
          0.8057074725057531,
          0.8268168452749097,
          0.8479262180440663,
          0.8690355908132229,
          0.8901449635823795,
          0.9112543363515361,
          0.9323637091206927,
          0.9534730818898492,
          0.9745824546590058,
          0.9956918274281624,
          1.016801200197319,
          1.0379105729664757,
          1.0590199457356322,
          1.0801293185047887,
          1.1012386912739454,
          1.122348064043102,
          1.1434574368122585,
          1.164566809581415,
          1.1856761823505717,
          1.2067855551197284,
          1.2278949278888849,
          1.2490043006580414,
          1.270113673427198,
          1.2912230461963548,
          1.3123324189655112,
          1.3334417917346677,
          1.3545511645038244,
          1.375660537272981,
          1.3967699100421376,
          1.417879282811294,
          1.4389886555804507,
          1.4600980283496074,
          1.481207401118764,
          1.5023167738879204,
          1.523426146657077,
          1.5445355194262338,
          1.5656448921953903,
          1.5867542649645467,
          1.6078636377337037,
          1.6289730105028601,
          1.6500823832720166,
          1.671191756041173,
          1.69230112881033,
          1.7134105015794865,
          1.734519874348643,
          1.7556292471177994,
          1.7767386198869564,
          1.7978479926561128,
          1.8189573654252693,
          1.8400667381944258,
          1.8611761109635827,
          1.8822854837327392,
          1.9033948565018957,
          1.9245042292710521,
          1.945613602040209,
          1.9667229748093655,
          1.987832347578522,
          2.0089417203476785,
          2.0300510931168354,
          2.051160465885992,
          2.0722698386551484,
          2.093379211424305,
          2.1144885841934618,
          2.1355979569626182,
          2.1567073297317747,
          2.177816702500931,
          2.198926075270088,
          2.2200354480392446,
          2.241144820808401,
          2.2622541935775575,
          2.2833635663467144,
          2.304472939115871,
          2.3255823118850274,
          2.346691684654184,
          2.367801057423341,
          2.3889104301924973,
          2.4100198029616537,
          2.43112917573081,
          2.452238548499967,
          2.4733479212691236,
          2.49445729403828,
          2.5155666668074366,
          2.5366760395765935,
          2.55778541234575,
          2.5788947851149064,
          2.600004157884063,
          2.62111353065322,
          2.6422229034223763,
          2.663332276191533,
          2.6844416489606897,
          2.705551021729846,
          2.7266603944990027,
          2.747769767268159,
          2.7688791400373156,
          2.7899885128064725,
          2.811097885575629,
          2.8322072583447855,
          2.8533166311139424,
          2.874426003883099,
          2.8955353766522554,
          2.916644749421412,
          2.9377541221905683,
          2.9588634949597252,
          2.9799728677288817,
          3.001082240498038,
          3.022191613267195,
          3.0433009860363516,
          3.064410358805508,
          3.0855197315746645,
          3.106629104343821,
          3.127738477112978,
          3.1488478498821344,
          3.169957222651291,
          3.191066595420448,
          3.2121759681896043,
          3.2332853409587607,
          3.254394713727917,
          3.2755040864970737,
          3.2966134592662306,
          3.317722832035387,
          3.3388322048045436,
          3.3599415775737005,
          3.381050950342857,
          3.4021603231120134,
          3.42326969588117,
          3.4443790686503264,
          3.4654884414194833,
          3.48659781418864,
          3.5077071869577963,
          3.528816559726953,
          3.5499259324961097,
          3.571035305265266,
          3.5921446780344226,
          3.613254050803579,
          3.634363423572736,
          3.6554727963418925,
          3.676582169111049,
          3.697691541880206,
          3.7188009146493624,
          3.739910287418519,
          3.7610196601876753,
          3.782129032956832,
          3.8032384057259887,
          3.824347778495145,
          3.8454571512643017,
          3.8665665240334586,
          3.887675896802615,
          3.9087852695717715,
          3.929894642340928,
          3.9510040151100845,
          3.9721133878792414,
          3.993222760648398,
          4.014332133417554,
          4.035441506186711,
          4.056550878955868,
          4.077660251725024,
          4.098769624494181,
          4.119878997263337,
          4.140988370032494,
          4.162097742801651,
          4.183207115570807,
          4.2043164883399635,
          4.22542586110912,
          4.2465352338782765,
          4.267644606647433,
          4.288753979416589,
          4.309863352185746,
          4.330972724954903,
          4.352082097724059,
          4.373191470493216,
          4.394300843262373,
          4.415410216031529,
          4.436519588800686,
          4.457628961569842,
          4.478738334338999,
          4.499847707108156,
          4.520957079877312,
          4.542066452646469,
          4.563175825415625,
          4.584285198184782,
          4.605394570953939,
          4.626503943723095,
          4.647613316492252,
          4.668722689261408,
          4.689832062030565,
          4.710941434799722,
          4.732050807568878
         ],
         "y": [
          0.19116742297213218,
          0.21724447093909438,
          0.24332151890605647,
          0.26939856687301866,
          0.29547561483998086,
          0.32155266280694295,
          0.34762971077390514,
          0.37370675874086723,
          0.3997838067078294,
          0.4258608546747916,
          0.4519379026417537,
          0.4780149506087159,
          0.5040919985756781,
          0.5301690465426402,
          0.5562460945096024,
          0.5823231424765645,
          0.6084001904435268,
          0.6344772384104889,
          0.660554286377451,
          0.686631334344413,
          0.7127083823113753,
          0.7387854302783374,
          0.7648624782452995,
          0.7909395262122618,
          0.8170165741792241,
          0.843093622146186,
          0.8691706701131481,
          0.8952477180801104,
          0.9213247660470727,
          0.9474018140140348,
          0.9734788619809966,
          0.999555909947959,
          1.0256329579149213,
          1.0517100058818833,
          1.0777870538488454,
          1.1038641018158075,
          1.1299411497827698,
          1.156018197749732,
          1.182095245716694,
          1.2081722936836563,
          1.2342493416506186,
          1.2603263896175805,
          1.2864034375845426,
          1.3124804855515049,
          1.3385575335184672,
          1.3646345814854293,
          1.3907116294523911,
          1.4167886774193534,
          1.4428657253863157,
          1.4689427733532778,
          1.4950198213202397,
          1.5210968692872024,
          1.5471739172541645,
          1.5732509652211264,
          1.5993280131880883,
          1.625405061155051,
          1.6514821091220129,
          1.6775591570889752,
          1.703636205055937,
          1.7297132530228998,
          1.7557903009898617,
          1.7818673489568235,
          1.8079443969237858,
          1.8340214448907481,
          1.8600984928577105,
          1.8861755408246723,
          1.9122525887916342,
          1.938329636758597,
          1.9644066847255588,
          1.9904837326925207,
          2.016560780659483,
          2.0426378286264453,
          2.0687148765934076,
          2.0947919245603694,
          2.1208689725273313,
          2.146946020494294,
          2.173023068461256,
          2.1991001164282182,
          2.22517716439518,
          2.251254212362143,
          2.2773312603291047,
          2.3034083082960666,
          2.329485356263029,
          2.355562404229991,
          2.3816394521969535,
          2.4077165001639154,
          2.4337935481308772,
          2.45987059609784,
          2.485947644064802,
          2.512024692031764,
          2.538101739998726,
          2.5641787879656888,
          2.5902558359326506,
          2.6163328838996125,
          2.642409931866575,
          2.668486979833537,
          2.694564027800499,
          2.7206410757674613,
          2.746718123734423,
          2.772795171701386,
          2.7988722196683478,
          2.8249492676353096,
          2.8510263156022724,
          2.8771033635692342,
          2.9031804115361965,
          2.9292574595031584,
          2.9553345074701203,
          2.981411555437083,
          3.007488603404045,
          3.033565651371007,
          3.0596426993379695,
          3.085719747304932,
          3.1117967952718937,
          3.1378738432388555,
          3.163950891205818,
          3.19002793917278,
          3.2161049871397425,
          3.2421820351067043,
          3.268259083073667,
          3.294336131040629,
          3.320413179007591,
          3.346490226974553,
          3.372567274941515,
          3.3986443229084773,
          3.4247213708754396,
          3.4507984188424015,
          3.476875466809364,
          3.502952514776326,
          3.529029562743288,
          3.55510661071025,
          3.5811836586772126,
          3.6072607066441744,
          3.633337754611137,
          3.659414802578099,
          3.685491850545062,
          3.7115688985120237,
          3.7376459464789855,
          3.7637229944459474,
          3.7898000424129092,
          3.815877090379872,
          3.841954138346834,
          3.8680311863137957,
          3.8941082342807585,
          3.9201852822477203,
          3.946262330214682,
          3.972339378181645,
          3.998416426148607,
          4.02449347411557,
          4.050570522082531,
          4.076647570049493,
          4.102724618016456,
          4.128801665983418,
          4.15487871395038,
          4.180955761917342,
          4.2070328098843035,
          4.233109857851266,
          4.259186905818228,
          4.285263953785191,
          4.311341001752153,
          4.3374180497191155,
          4.363495097686077,
          4.389572145653039,
          4.415649193620001,
          4.441726241586964,
          4.467803289553926,
          4.493880337520888,
          4.519957385487849,
          4.546034433454812,
          4.572111481421774,
          4.598188529388737,
          4.624265577355698,
          4.6503426253226605,
          4.676419673289623,
          4.702496721256584,
          4.728573769223547,
          4.75465081719051,
          4.780727865157471,
          4.8068049131244335,
          4.832881961091395,
          4.858959009058357,
          4.88503605702532,
          4.911113104992282,
          4.937190152959245,
          4.963267200926206,
          4.989344248893168,
          5.015421296860131,
          5.041498344827092,
          5.067575392794055,
          5.0936524407610175,
          5.1197294887279785,
          5.145806536694941,
          5.171883584661903,
          5.197960632628866,
          5.224037680595828,
          5.25011472856279,
          5.276191776529752,
          5.302268824496713,
          5.328345872463676,
          5.354422920430639,
          5.3804999683976
         ],
         "type": "scatter"
        },
        {
         "line": {
          "color": "green",
          "dash": "dot"
         },
         "mode": "lines",
         "name": "Upper bound",
         "x": [
          0.5312856265067175,
          0.5523949992758741,
          0.5735043720450307,
          0.5946137448141873,
          0.6157231175833439,
          0.6368324903525004,
          0.657941863121657,
          0.6790512358908136,
          0.7001606086599702,
          0.7212699814291268,
          0.7423793541982834,
          0.76348872696744,
          0.7845980997365966,
          0.8057074725057531,
          0.8268168452749097,
          0.8479262180440663,
          0.8690355908132229,
          0.8901449635823795,
          0.9112543363515361,
          0.9323637091206927,
          0.9534730818898492,
          0.9745824546590058,
          0.9956918274281624,
          1.016801200197319,
          1.0379105729664757,
          1.0590199457356322,
          1.0801293185047887,
          1.1012386912739454,
          1.122348064043102,
          1.1434574368122585,
          1.164566809581415,
          1.1856761823505717,
          1.2067855551197284,
          1.2278949278888849,
          1.2490043006580414,
          1.270113673427198,
          1.2912230461963548,
          1.3123324189655112,
          1.3334417917346677,
          1.3545511645038244,
          1.375660537272981,
          1.3967699100421376,
          1.417879282811294,
          1.4389886555804507,
          1.4600980283496074,
          1.481207401118764,
          1.5023167738879204,
          1.523426146657077,
          1.5445355194262338,
          1.5656448921953903,
          1.5867542649645467,
          1.6078636377337037,
          1.6289730105028601,
          1.6500823832720166,
          1.671191756041173,
          1.69230112881033,
          1.7134105015794865,
          1.734519874348643,
          1.7556292471177994,
          1.7767386198869564,
          1.7978479926561128,
          1.8189573654252693,
          1.8400667381944258,
          1.8611761109635827,
          1.8822854837327392,
          1.9033948565018957,
          1.9245042292710521,
          1.945613602040209,
          1.9667229748093655,
          1.987832347578522,
          2.0089417203476785,
          2.0300510931168354,
          2.051160465885992,
          2.0722698386551484,
          2.093379211424305,
          2.1144885841934618,
          2.1355979569626182,
          2.1567073297317747,
          2.177816702500931,
          2.198926075270088,
          2.2200354480392446,
          2.241144820808401,
          2.2622541935775575,
          2.2833635663467144,
          2.304472939115871,
          2.3255823118850274,
          2.346691684654184,
          2.367801057423341,
          2.3889104301924973,
          2.4100198029616537,
          2.43112917573081,
          2.452238548499967,
          2.4733479212691236,
          2.49445729403828,
          2.5155666668074366,
          2.5366760395765935,
          2.55778541234575,
          2.5788947851149064,
          2.600004157884063,
          2.62111353065322,
          2.6422229034223763,
          2.663332276191533,
          2.6844416489606897,
          2.705551021729846,
          2.7266603944990027,
          2.747769767268159,
          2.7688791400373156,
          2.7899885128064725,
          2.811097885575629,
          2.8322072583447855,
          2.8533166311139424,
          2.874426003883099,
          2.8955353766522554,
          2.916644749421412,
          2.9377541221905683,
          2.9588634949597252,
          2.9799728677288817,
          3.001082240498038,
          3.022191613267195,
          3.0433009860363516,
          3.064410358805508,
          3.0855197315746645,
          3.106629104343821,
          3.127738477112978,
          3.1488478498821344,
          3.169957222651291,
          3.191066595420448,
          3.2121759681896043,
          3.2332853409587607,
          3.254394713727917,
          3.2755040864970737,
          3.2966134592662306,
          3.317722832035387,
          3.3388322048045436,
          3.3599415775737005,
          3.381050950342857,
          3.4021603231120134,
          3.42326969588117,
          3.4443790686503264,
          3.4654884414194833,
          3.48659781418864,
          3.5077071869577963,
          3.528816559726953,
          3.5499259324961097,
          3.571035305265266,
          3.5921446780344226,
          3.613254050803579,
          3.634363423572736,
          3.6554727963418925,
          3.676582169111049,
          3.697691541880206,
          3.7188009146493624,
          3.739910287418519,
          3.7610196601876753,
          3.782129032956832,
          3.8032384057259887,
          3.824347778495145,
          3.8454571512643017,
          3.8665665240334586,
          3.887675896802615,
          3.9087852695717715,
          3.929894642340928,
          3.9510040151100845,
          3.9721133878792414,
          3.993222760648398,
          4.014332133417554,
          4.035441506186711,
          4.056550878955868,
          4.077660251725024,
          4.098769624494181,
          4.119878997263337,
          4.140988370032494,
          4.162097742801651,
          4.183207115570807,
          4.2043164883399635,
          4.22542586110912,
          4.2465352338782765,
          4.267644606647433,
          4.288753979416589,
          4.309863352185746,
          4.330972724954903,
          4.352082097724059,
          4.373191470493216,
          4.394300843262373,
          4.415410216031529,
          4.436519588800686,
          4.457628961569842,
          4.478738334338999,
          4.499847707108156,
          4.520957079877312,
          4.542066452646469,
          4.563175825415625,
          4.584285198184782,
          4.605394570953939,
          4.626503943723095,
          4.647613316492252,
          4.668722689261408,
          4.689832062030565,
          4.710941434799722,
          4.732050807568878
         ],
         "y": [
          1.3499940100772239,
          1.3789307722911155,
          1.4078675345050071,
          1.4368042967188988,
          1.4657410589327904,
          1.494677821146682,
          1.5236145833605736,
          1.5525513455744653,
          1.5814881077883571,
          1.6104248700022485,
          1.6393616322161402,
          1.6682983944300318,
          1.6972351566439237,
          1.7261719188578153,
          1.755108681071707,
          1.7840454432855986,
          1.8129822054994902,
          1.8419189677133818,
          1.8708557299272734,
          1.899792492141165,
          1.9287292543550567,
          1.9576660165689483,
          1.98660277878284,
          2.0155395409967314,
          2.0444763032106232,
          2.073413065424515,
          2.1023498276384065,
          2.1312865898522984,
          2.1602233520661898,
          2.1891601142800816,
          2.218096876493973,
          2.247033638707865,
          2.2759704009217567,
          2.304907163135648,
          2.3338439253495395,
          2.3627806875634314,
          2.3917174497773233,
          2.4206542119912147,
          2.4495909742051065,
          2.478527736418998,
          2.50746449863289,
          2.536401260846781,
          2.565338023060673,
          2.594274785274565,
          2.6232115474884563,
          2.6521483097023477,
          2.6810850719162396,
          2.710021834130131,
          2.738958596344023,
          2.7678953585579142,
          2.796832120771806,
          2.825768882985698,
          2.8547056451995894,
          2.883642407413481,
          2.9125791696273726,
          2.9415159318412645,
          2.9704526940551563,
          2.9993894562690477,
          3.028326218482939,
          3.057262980696831,
          3.086199742910723,
          3.1151365051246143,
          3.1440732673385057,
          3.173010029552398,
          3.2019467917662894,
          3.230883553980181,
          3.259820316194072,
          3.2887570784079645,
          3.317693840621856,
          3.3466306028357473,
          3.3755673650496387,
          3.404504127263531,
          3.4334408894774224,
          3.462377651691314,
          3.4913144139052052,
          3.5202511761190975,
          3.549187938332989,
          3.5781247005468804,
          3.607061462760772,
          3.635998224974664,
          3.6649349871885555,
          3.693871749402447,
          3.7228085116163387,
          3.7517452738302306,
          3.780682036044122,
          3.809618798258014,
          3.8385555604719053,
          3.867492322685797,
          3.896429084899689,
          3.9253658471135804,
          3.954302609327472,
          3.9832393715413636,
          4.012176133755256,
          4.041112895969147,
          4.070049658183038,
          4.098986420396931,
          4.127923182610822,
          4.156859944824713,
          4.185796707038605,
          4.214733469252497,
          4.243670231466389,
          4.27260699368028,
          4.301543755894173,
          4.330480518108064,
          4.359417280321955,
          4.3883540425358465,
          4.417290804749738,
          4.44622756696363,
          4.475164329177522,
          4.504101091391413,
          4.533037853605306,
          4.561974615819197,
          4.590911378033088,
          4.6198481402469795,
          4.648784902460871,
          4.677721664674763,
          4.706658426888655,
          4.735595189102546,
          4.764531951316439,
          4.79346871353033,
          4.822405475744222,
          4.851342237958113,
          4.8802790001720044,
          4.909215762385896,
          4.938152524599788,
          4.967089286813679,
          4.996026049027572,
          5.024962811241463,
          5.053899573455355,
          5.082836335669246,
          5.1117730978831375,
          5.140709860097029,
          5.169646622310921,
          5.198583384524813,
          5.227520146738705,
          5.256456908952596,
          5.285393671166488,
          5.31433043338038,
          5.3432671955942705,
          5.372203957808162,
          5.401140720022054,
          5.430077482235946,
          5.459014244449838,
          5.48795100666373,
          5.516887768877621,
          5.545824531091513,
          5.574761293305404,
          5.603698055519296,
          5.632634817733187,
          5.661571579947079,
          5.690508342160971,
          5.719445104374863,
          5.748381866588754,
          5.777318628802646,
          5.806255391016537,
          5.835192153230429,
          5.86412891544432,
          5.893065677658212,
          5.922002439872104,
          5.950939202085996,
          5.979875964299887,
          6.008812726513779,
          6.037749488727671,
          6.066686250941562,
          6.095623013155453,
          6.124559775369344,
          6.153496537583237,
          6.182433299797129,
          6.21137006201102,
          6.240306824224912,
          6.269243586438803,
          6.298180348652695,
          6.327117110866587,
          6.356053873080478,
          6.38499063529437,
          6.413927397508262,
          6.442864159722153,
          6.471800921936045,
          6.500737684149936,
          6.529674446363828,
          6.55861120857772,
          6.587547970791611,
          6.616484733005503,
          6.645421495219395,
          6.674358257433286,
          6.703295019647178,
          6.732231781861069,
          6.761168544074962,
          6.7901053062888534,
          6.819042068502744,
          6.847978830716636,
          6.876915592930527,
          6.905852355144419,
          6.934789117358312,
          6.963725879572202,
          6.992662641786095,
          7.021599403999986,
          7.0505361662138775,
          7.079472928427769,
          7.10840969064166
         ],
         "type": "scatter"
        },
        {
         "line": {
          "color": "red",
          "width": 2
         },
         "mode": "lines",
         "name": "Extrapolated line",
         "x": [
          0.5312856265067175,
          0.5523949992758741,
          0.5735043720450307,
          0.5946137448141873,
          0.6157231175833439,
          0.6368324903525004,
          0.657941863121657,
          0.6790512358908136,
          0.7001606086599702,
          0.7212699814291268,
          0.7423793541982834,
          0.76348872696744,
          0.7845980997365966,
          0.8057074725057531,
          0.8268168452749097,
          0.8479262180440663,
          0.8690355908132229,
          0.8901449635823795,
          0.9112543363515361,
          0.9323637091206927,
          0.9534730818898492,
          0.9745824546590058,
          0.9956918274281624,
          1.016801200197319,
          1.0379105729664757,
          1.0590199457356322,
          1.0801293185047887,
          1.1012386912739454,
          1.122348064043102,
          1.1434574368122585,
          1.164566809581415,
          1.1856761823505717,
          1.2067855551197284,
          1.2278949278888849,
          1.2490043006580414,
          1.270113673427198,
          1.2912230461963548,
          1.3123324189655112,
          1.3334417917346677,
          1.3545511645038244,
          1.375660537272981,
          1.3967699100421376,
          1.417879282811294,
          1.4389886555804507,
          1.4600980283496074,
          1.481207401118764,
          1.5023167738879204,
          1.523426146657077,
          1.5445355194262338,
          1.5656448921953903,
          1.5867542649645467,
          1.6078636377337037,
          1.6289730105028601,
          1.6500823832720166,
          1.671191756041173,
          1.69230112881033,
          1.7134105015794865,
          1.734519874348643,
          1.7556292471177994,
          1.7767386198869564,
          1.7978479926561128,
          1.8189573654252693,
          1.8400667381944258,
          1.8611761109635827,
          1.8822854837327392,
          1.9033948565018957,
          1.9245042292710521,
          1.945613602040209,
          1.9667229748093655,
          1.987832347578522,
          2.0089417203476785,
          2.0300510931168354,
          2.051160465885992,
          2.0722698386551484,
          2.093379211424305,
          2.1144885841934618,
          2.1355979569626182,
          2.1567073297317747,
          2.177816702500931,
          2.198926075270088,
          2.2200354480392446,
          2.241144820808401,
          2.2622541935775575,
          2.2833635663467144,
          2.304472939115871,
          2.3255823118850274,
          2.346691684654184,
          2.367801057423341,
          2.3889104301924973,
          2.4100198029616537,
          2.43112917573081,
          2.452238548499967,
          2.4733479212691236,
          2.49445729403828,
          2.5155666668074366,
          2.5366760395765935,
          2.55778541234575,
          2.5788947851149064,
          2.600004157884063,
          2.62111353065322,
          2.6422229034223763,
          2.663332276191533,
          2.6844416489606897,
          2.705551021729846,
          2.7266603944990027,
          2.747769767268159,
          2.7688791400373156,
          2.7899885128064725,
          2.811097885575629,
          2.8322072583447855,
          2.8533166311139424,
          2.874426003883099,
          2.8955353766522554,
          2.916644749421412,
          2.9377541221905683,
          2.9588634949597252,
          2.9799728677288817,
          3.001082240498038,
          3.022191613267195,
          3.0433009860363516,
          3.064410358805508,
          3.0855197315746645,
          3.106629104343821,
          3.127738477112978,
          3.1488478498821344,
          3.169957222651291,
          3.191066595420448,
          3.2121759681896043,
          3.2332853409587607,
          3.254394713727917,
          3.2755040864970737,
          3.2966134592662306,
          3.317722832035387,
          3.3388322048045436,
          3.3599415775737005,
          3.381050950342857,
          3.4021603231120134,
          3.42326969588117,
          3.4443790686503264,
          3.4654884414194833,
          3.48659781418864,
          3.5077071869577963,
          3.528816559726953,
          3.5499259324961097,
          3.571035305265266,
          3.5921446780344226,
          3.613254050803579,
          3.634363423572736,
          3.6554727963418925,
          3.676582169111049,
          3.697691541880206,
          3.7188009146493624,
          3.739910287418519,
          3.7610196601876753,
          3.782129032956832,
          3.8032384057259887,
          3.824347778495145,
          3.8454571512643017,
          3.8665665240334586,
          3.887675896802615,
          3.9087852695717715,
          3.929894642340928,
          3.9510040151100845,
          3.9721133878792414,
          3.993222760648398,
          4.014332133417554,
          4.035441506186711,
          4.056550878955868,
          4.077660251725024,
          4.098769624494181,
          4.119878997263337,
          4.140988370032494,
          4.162097742801651,
          4.183207115570807,
          4.2043164883399635,
          4.22542586110912,
          4.2465352338782765,
          4.267644606647433,
          4.288753979416589,
          4.309863352185746,
          4.330972724954903,
          4.352082097724059,
          4.373191470493216,
          4.394300843262373,
          4.415410216031529,
          4.436519588800686,
          4.457628961569842,
          4.478738334338999,
          4.499847707108156,
          4.520957079877312,
          4.542066452646469,
          4.563175825415625,
          4.584285198184782,
          4.605394570953939,
          4.626503943723095,
          4.647613316492252,
          4.668722689261408,
          4.689832062030565,
          4.710941434799722,
          4.732050807568878
         ],
         "y": [
          0.8374363125278601,
          0.8644643465390317,
          0.8914923805502033,
          0.9185204145613749,
          0.9455484485725466,
          0.9725764825837182,
          0.9996045165948898,
          1.0266325506060614,
          1.053660584617233,
          1.0806886186284048,
          1.1077166526395763,
          1.1347446866507478,
          1.1617727206619195,
          1.1888007546730912,
          1.215828788684263,
          1.2428568226954344,
          1.2698848567066061,
          1.2969128907177776,
          1.3239409247289493,
          1.350968958740121,
          1.3779969927512925,
          1.4050250267624642,
          1.432053060773636,
          1.4590810947848074,
          1.4861091287959791,
          1.5131371628071506,
          1.540165196818322,
          1.567193230829494,
          1.5942212648406657,
          1.6212492988518372,
          1.6482773328630087,
          1.6753053668741804,
          1.7023334008853521,
          1.7293614348965236,
          1.756389468907695,
          1.783417502918867,
          1.8104455369300387,
          1.8374735709412102,
          1.8645016049523817,
          1.8915296389635534,
          1.9185576729747251,
          1.9455857069858966,
          1.972613740997068,
          1.99964177500824,
          2.0266698090194115,
          2.0536978430305832,
          2.080725877041755,
          2.107753911052926,
          2.1347819450640984,
          2.1618099790752696,
          2.1888380130864413,
          2.215866047097613,
          2.2428940811087847,
          2.269922115119956,
          2.2969501491311277,
          2.3239781831423,
          2.351006217153471,
          2.378034251164643,
          2.405062285175814,
          2.4320903191869863,
          2.4591183531981575,
          2.4861463872093292,
          2.5131744212205005,
          2.5402024552316727,
          2.5672304892428444,
          2.5942585232540156,
          2.6212865572651873,
          2.6483145912763595,
          2.6753426252875308,
          2.702370659298702,
          2.7293986933098737,
          2.756426727321046,
          2.783454761332217,
          2.810482795343389,
          2.83751082935456,
          2.8645388633657323,
          2.891566897376904,
          2.9185949313880752,
          2.9456229653992465,
          2.9726509994104187,
          2.9996790334215904,
          3.0267070674327616,
          3.0537351014439333,
          3.0807631354551055,
          3.1077911694662768,
          3.1348192034774485,
          3.1618472374886197,
          3.188875271499792,
          3.215903305510963,
          3.242931339522135,
          3.269959373533306,
          3.2969874075444783,
          3.32401544155565,
          3.3510434755668213,
          3.378071509577993,
          3.4050995435891647,
          3.4321275776003364,
          3.4591556116115076,
          3.4861836456226794,
          3.5132116796338515,
          3.5402397136450228,
          3.5672677476561945,
          3.594295781667366,
          3.621323815678538,
          3.648351849689709,
          3.675379883700881,
          3.702407917712052,
          3.7294359517232243,
          3.756463985734396,
          3.7834920197455673,
          3.8105200537567394,
          3.8375480877679107,
          3.8645761217790824,
          3.8916041557902536,
          3.9186321898014254,
          3.9456602238125975,
          3.9726882578237688,
          3.9997162918349405,
          4.026744325846112,
          4.053772359857284,
          4.080800393868455,
          4.107828427879626,
          4.134856461890799,
          4.161884495901971,
          4.188912529913142,
          4.215940563924313,
          4.242968597935485,
          4.269996631946657,
          4.297024665957828,
          4.324052699969,
          4.351080733980171,
          4.3781087679913435,
          4.405136802002515,
          4.432164836013686,
          4.459192870024858,
          4.4862209040360295,
          4.513248938047202,
          4.540276972058373,
          4.567305006069544,
          4.594333040080716,
          4.621361074091888,
          4.64838910810306,
          4.675417142114231,
          4.702445176125403,
          4.729473210136574,
          4.756501244147746,
          4.783529278158917,
          4.810557312170089,
          4.837585346181261,
          4.8646133801924325,
          4.891641414203605,
          4.918669448214776,
          4.945697482225947,
          4.9727255162371184,
          4.999753550248291,
          5.026781584259463,
          5.053809618270634,
          5.080837652281805,
          5.107865686292977,
          5.134893720304149,
          5.16192175431532,
          5.188949788326492,
          5.215977822337663,
          5.2430058563488355,
          5.270033890360007,
          5.297061924371178,
          5.32408995838235,
          5.3511179923935215,
          5.378146026404693,
          5.405174060415865,
          5.432202094427036,
          5.459230128438207,
          5.48625816244938,
          5.513286196460551,
          5.540314230471723,
          5.567342264482895,
          5.5943702984940655,
          5.621398332505238,
          5.648426366516409,
          5.675454400527581,
          5.702482434538753,
          5.729510468549924,
          5.756538502561096,
          5.783566536572268,
          5.810594570583439,
          5.8376226045946105,
          5.864650638605782,
          5.891678672616954,
          5.918706706628126,
          5.945734740639296,
          5.972762774650469,
          5.99979080866164,
          6.026818842672812,
          6.053846876683984,
          6.0808749106951545,
          6.107902944706327,
          6.134930978717498,
          6.16195901272867,
          6.188987046739842,
          6.216015080751013
         ],
         "type": "scatter"
        }
       ],
       "layout": {
        "template": {
         "data": {
          "barpolar": [
           {
            "marker": {
             "line": {
              "color": "white",
              "width": 0.5
             },
             "pattern": {
              "fillmode": "overlay",
              "size": 10,
              "solidity": 0.2
             }
            },
            "type": "barpolar"
           }
          ],
          "bar": [
           {
            "error_x": {
             "color": "#2a3f5f"
            },
            "error_y": {
             "color": "#2a3f5f"
            },
            "marker": {
             "line": {
              "color": "white",
              "width": 0.5
             },
             "pattern": {
              "fillmode": "overlay",
              "size": 10,
              "solidity": 0.2
             }
            },
            "type": "bar"
           }
          ],
          "carpet": [
           {
            "aaxis": {
             "endlinecolor": "#2a3f5f",
             "gridcolor": "#C8D4E3",
             "linecolor": "#C8D4E3",
             "minorgridcolor": "#C8D4E3",
             "startlinecolor": "#2a3f5f"
            },
            "baxis": {
             "endlinecolor": "#2a3f5f",
             "gridcolor": "#C8D4E3",
             "linecolor": "#C8D4E3",
             "minorgridcolor": "#C8D4E3",
             "startlinecolor": "#2a3f5f"
            },
            "type": "carpet"
           }
          ],
          "choropleth": [
           {
            "colorbar": {
             "outlinewidth": 0,
             "ticks": ""
            },
            "type": "choropleth"
           }
          ],
          "contourcarpet": [
           {
            "colorbar": {
             "outlinewidth": 0,
             "ticks": ""
            },
            "type": "contourcarpet"
           }
          ],
          "contour": [
           {
            "colorbar": {
             "outlinewidth": 0,
             "ticks": ""
            },
            "colorscale": [
             [
              0.0,
              "#0d0887"
             ],
             [
              0.1111111111111111,
              "#46039f"
             ],
             [
              0.2222222222222222,
              "#7201a8"
             ],
             [
              0.3333333333333333,
              "#9c179e"
             ],
             [
              0.4444444444444444,
              "#bd3786"
             ],
             [
              0.5555555555555556,
              "#d8576b"
             ],
             [
              0.6666666666666666,
              "#ed7953"
             ],
             [
              0.7777777777777778,
              "#fb9f3a"
             ],
             [
              0.8888888888888888,
              "#fdca26"
             ],
             [
              1.0,
              "#f0f921"
             ]
            ],
            "type": "contour"
           }
          ],
          "heatmapgl": [
           {
            "colorbar": {
             "outlinewidth": 0,
             "ticks": ""
            },
            "colorscale": [
             [
              0.0,
              "#0d0887"
             ],
             [
              0.1111111111111111,
              "#46039f"
             ],
             [
              0.2222222222222222,
              "#7201a8"
             ],
             [
              0.3333333333333333,
              "#9c179e"
             ],
             [
              0.4444444444444444,
              "#bd3786"
             ],
             [
              0.5555555555555556,
              "#d8576b"
             ],
             [
              0.6666666666666666,
              "#ed7953"
             ],
             [
              0.7777777777777778,
              "#fb9f3a"
             ],
             [
              0.8888888888888888,
              "#fdca26"
             ],
             [
              1.0,
              "#f0f921"
             ]
            ],
            "type": "heatmapgl"
           }
          ],
          "heatmap": [
           {
            "colorbar": {
             "outlinewidth": 0,
             "ticks": ""
            },
            "colorscale": [
             [
              0.0,
              "#0d0887"
             ],
             [
              0.1111111111111111,
              "#46039f"
             ],
             [
              0.2222222222222222,
              "#7201a8"
             ],
             [
              0.3333333333333333,
              "#9c179e"
             ],
             [
              0.4444444444444444,
              "#bd3786"
             ],
             [
              0.5555555555555556,
              "#d8576b"
             ],
             [
              0.6666666666666666,
              "#ed7953"
             ],
             [
              0.7777777777777778,
              "#fb9f3a"
             ],
             [
              0.8888888888888888,
              "#fdca26"
             ],
             [
              1.0,
              "#f0f921"
             ]
            ],
            "type": "heatmap"
           }
          ],
          "histogram2dcontour": [
           {
            "colorbar": {
             "outlinewidth": 0,
             "ticks": ""
            },
            "colorscale": [
             [
              0.0,
              "#0d0887"
             ],
             [
              0.1111111111111111,
              "#46039f"
             ],
             [
              0.2222222222222222,
              "#7201a8"
             ],
             [
              0.3333333333333333,
              "#9c179e"
             ],
             [
              0.4444444444444444,
              "#bd3786"
             ],
             [
              0.5555555555555556,
              "#d8576b"
             ],
             [
              0.6666666666666666,
              "#ed7953"
             ],
             [
              0.7777777777777778,
              "#fb9f3a"
             ],
             [
              0.8888888888888888,
              "#fdca26"
             ],
             [
              1.0,
              "#f0f921"
             ]
            ],
            "type": "histogram2dcontour"
           }
          ],
          "histogram2d": [
           {
            "colorbar": {
             "outlinewidth": 0,
             "ticks": ""
            },
            "colorscale": [
             [
              0.0,
              "#0d0887"
             ],
             [
              0.1111111111111111,
              "#46039f"
             ],
             [
              0.2222222222222222,
              "#7201a8"
             ],
             [
              0.3333333333333333,
              "#9c179e"
             ],
             [
              0.4444444444444444,
              "#bd3786"
             ],
             [
              0.5555555555555556,
              "#d8576b"
             ],
             [
              0.6666666666666666,
              "#ed7953"
             ],
             [
              0.7777777777777778,
              "#fb9f3a"
             ],
             [
              0.8888888888888888,
              "#fdca26"
             ],
             [
              1.0,
              "#f0f921"
             ]
            ],
            "type": "histogram2d"
           }
          ],
          "histogram": [
           {
            "marker": {
             "pattern": {
              "fillmode": "overlay",
              "size": 10,
              "solidity": 0.2
             }
            },
            "type": "histogram"
           }
          ],
          "mesh3d": [
           {
            "colorbar": {
             "outlinewidth": 0,
             "ticks": ""
            },
            "type": "mesh3d"
           }
          ],
          "parcoords": [
           {
            "line": {
             "colorbar": {
              "outlinewidth": 0,
              "ticks": ""
             }
            },
            "type": "parcoords"
           }
          ],
          "pie": [
           {
            "automargin": true,
            "type": "pie"
           }
          ],
          "scatter3d": [
           {
            "line": {
             "colorbar": {
              "outlinewidth": 0,
              "ticks": ""
             }
            },
            "marker": {
             "colorbar": {
              "outlinewidth": 0,
              "ticks": ""
             }
            },
            "type": "scatter3d"
           }
          ],
          "scattercarpet": [
           {
            "marker": {
             "colorbar": {
              "outlinewidth": 0,
              "ticks": ""
             }
            },
            "type": "scattercarpet"
           }
          ],
          "scattergeo": [
           {
            "marker": {
             "colorbar": {
              "outlinewidth": 0,
              "ticks": ""
             }
            },
            "type": "scattergeo"
           }
          ],
          "scattergl": [
           {
            "marker": {
             "colorbar": {
              "outlinewidth": 0,
              "ticks": ""
             }
            },
            "type": "scattergl"
           }
          ],
          "scattermapbox": [
           {
            "marker": {
             "colorbar": {
              "outlinewidth": 0,
              "ticks": ""
             }
            },
            "type": "scattermapbox"
           }
          ],
          "scatterpolargl": [
           {
            "marker": {
             "colorbar": {
              "outlinewidth": 0,
              "ticks": ""
             }
            },
            "type": "scatterpolargl"
           }
          ],
          "scatterpolar": [
           {
            "marker": {
             "colorbar": {
              "outlinewidth": 0,
              "ticks": ""
             }
            },
            "type": "scatterpolar"
           }
          ],
          "scatter": [
           {
            "fillpattern": {
             "fillmode": "overlay",
             "size": 10,
             "solidity": 0.2
            },
            "type": "scatter"
           }
          ],
          "scatterternary": [
           {
            "marker": {
             "colorbar": {
              "outlinewidth": 0,
              "ticks": ""
             }
            },
            "type": "scatterternary"
           }
          ],
          "surface": [
           {
            "colorbar": {
             "outlinewidth": 0,
             "ticks": ""
            },
            "colorscale": [
             [
              0.0,
              "#0d0887"
             ],
             [
              0.1111111111111111,
              "#46039f"
             ],
             [
              0.2222222222222222,
              "#7201a8"
             ],
             [
              0.3333333333333333,
              "#9c179e"
             ],
             [
              0.4444444444444444,
              "#bd3786"
             ],
             [
              0.5555555555555556,
              "#d8576b"
             ],
             [
              0.6666666666666666,
              "#ed7953"
             ],
             [
              0.7777777777777778,
              "#fb9f3a"
             ],
             [
              0.8888888888888888,
              "#fdca26"
             ],
             [
              1.0,
              "#f0f921"
             ]
            ],
            "type": "surface"
           }
          ],
          "table": [
           {
            "cells": {
             "fill": {
              "color": "#EBF0F8"
             },
             "line": {
              "color": "white"
             }
            },
            "header": {
             "fill": {
              "color": "#C8D4E3"
             },
             "line": {
              "color": "white"
             }
            },
            "type": "table"
           }
          ]
         },
         "layout": {
          "annotationdefaults": {
           "arrowcolor": "#2a3f5f",
           "arrowhead": 0,
           "arrowwidth": 1
          },
          "autotypenumbers": "strict",
          "coloraxis": {
           "colorbar": {
            "outlinewidth": 0,
            "ticks": ""
           }
          },
          "colorscale": {
           "diverging": [
            [
             0,
             "#8e0152"
            ],
            [
             0.1,
             "#c51b7d"
            ],
            [
             0.2,
             "#de77ae"
            ],
            [
             0.3,
             "#f1b6da"
            ],
            [
             0.4,
             "#fde0ef"
            ],
            [
             0.5,
             "#f7f7f7"
            ],
            [
             0.6,
             "#e6f5d0"
            ],
            [
             0.7,
             "#b8e186"
            ],
            [
             0.8,
             "#7fbc41"
            ],
            [
             0.9,
             "#4d9221"
            ],
            [
             1,
             "#276419"
            ]
           ],
           "sequential": [
            [
             0.0,
             "#0d0887"
            ],
            [
             0.1111111111111111,
             "#46039f"
            ],
            [
             0.2222222222222222,
             "#7201a8"
            ],
            [
             0.3333333333333333,
             "#9c179e"
            ],
            [
             0.4444444444444444,
             "#bd3786"
            ],
            [
             0.5555555555555556,
             "#d8576b"
            ],
            [
             0.6666666666666666,
             "#ed7953"
            ],
            [
             0.7777777777777778,
             "#fb9f3a"
            ],
            [
             0.8888888888888888,
             "#fdca26"
            ],
            [
             1.0,
             "#f0f921"
            ]
           ],
           "sequentialminus": [
            [
             0.0,
             "#0d0887"
            ],
            [
             0.1111111111111111,
             "#46039f"
            ],
            [
             0.2222222222222222,
             "#7201a8"
            ],
            [
             0.3333333333333333,
             "#9c179e"
            ],
            [
             0.4444444444444444,
             "#bd3786"
            ],
            [
             0.5555555555555556,
             "#d8576b"
            ],
            [
             0.6666666666666666,
             "#ed7953"
            ],
            [
             0.7777777777777778,
             "#fb9f3a"
            ],
            [
             0.8888888888888888,
             "#fdca26"
            ],
            [
             1.0,
             "#f0f921"
            ]
           ]
          },
          "colorway": [
           "#636efa",
           "#EF553B",
           "#00cc96",
           "#ab63fa",
           "#FFA15A",
           "#19d3f3",
           "#FF6692",
           "#B6E880",
           "#FF97FF",
           "#FECB52"
          ],
          "font": {
           "color": "#2a3f5f"
          },
          "geo": {
           "bgcolor": "white",
           "lakecolor": "white",
           "landcolor": "white",
           "showlakes": true,
           "showland": true,
           "subunitcolor": "#C8D4E3"
          },
          "hoverlabel": {
           "align": "left"
          },
          "hovermode": "closest",
          "mapbox": {
           "style": "light"
          },
          "paper_bgcolor": "white",
          "plot_bgcolor": "white",
          "polar": {
           "angularaxis": {
            "gridcolor": "#EBF0F8",
            "linecolor": "#EBF0F8",
            "ticks": ""
           },
           "bgcolor": "white",
           "radialaxis": {
            "gridcolor": "#EBF0F8",
            "linecolor": "#EBF0F8",
            "ticks": ""
           }
          },
          "scene": {
           "xaxis": {
            "backgroundcolor": "white",
            "gridcolor": "#DFE8F3",
            "gridwidth": 2,
            "linecolor": "#EBF0F8",
            "showbackground": true,
            "ticks": "",
            "zerolinecolor": "#EBF0F8"
           },
           "yaxis": {
            "backgroundcolor": "white",
            "gridcolor": "#DFE8F3",
            "gridwidth": 2,
            "linecolor": "#EBF0F8",
            "showbackground": true,
            "ticks": "",
            "zerolinecolor": "#EBF0F8"
           },
           "zaxis": {
            "backgroundcolor": "white",
            "gridcolor": "#DFE8F3",
            "gridwidth": 2,
            "linecolor": "#EBF0F8",
            "showbackground": true,
            "ticks": "",
            "zerolinecolor": "#EBF0F8"
           }
          },
          "shapedefaults": {
           "line": {
            "color": "#2a3f5f"
           }
          },
          "ternary": {
           "aaxis": {
            "gridcolor": "#DFE8F3",
            "linecolor": "#A2B1C6",
            "ticks": ""
           },
           "baxis": {
            "gridcolor": "#DFE8F3",
            "linecolor": "#A2B1C6",
            "ticks": ""
           },
           "bgcolor": "white",
           "caxis": {
            "gridcolor": "#DFE8F3",
            "linecolor": "#A2B1C6",
            "ticks": ""
           }
          },
          "title": {
           "x": 0.05
          },
          "xaxis": {
           "automargin": true,
           "gridcolor": "#EBF0F8",
           "linecolor": "#EBF0F8",
           "ticks": "",
           "title": {
            "standoff": 15
           },
           "zerolinecolor": "#EBF0F8",
           "zerolinewidth": 2
          },
          "yaxis": {
           "automargin": true,
           "gridcolor": "#EBF0F8",
           "linecolor": "#EBF0F8",
           "ticks": "",
           "title": {
            "standoff": 15
           },
           "zerolinecolor": "#EBF0F8",
           "zerolinewidth": 2
          }
         }
        },
        "title": {
         "text": "Observed current and tangent of phi",
         "x": 0.5,
         "xanchor": "center"
        },
        "xaxis": {
         "title": {
          "text": "tangent of phi"
         },
         "range": [
          0,
          5.1
         ]
        },
        "yaxis": {
         "title": {
          "text": "Current, amps"
         },
         "range": [
          0,
          6.1
         ]
        },
        "legend": {
         "orientation": "h",
         "yanchor": "bottom",
         "y": -0.3,
         "xanchor": "center",
         "x": 0.5
        }
       },
       "config": {
        "plotlyServerURL": "https://plot.ly"
       }
      },
      "text/html": [
       "<div>                            <div id=\"adc9a2b0-dfcb-43ac-b8a7-ccb2167d5504\" class=\"plotly-graph-div\" style=\"height:525px; width:100%;\"></div>            <script type=\"text/javascript\">                require([\"plotly\"], function(Plotly) {                    window.PLOTLYENV=window.PLOTLYENV || {};                                    if (document.getElementById(\"adc9a2b0-dfcb-43ac-b8a7-ccb2167d5504\")) {                    Plotly.newPlot(                        \"adc9a2b0-dfcb-43ac-b8a7-ccb2167d5504\",                        [{\"error_x\":{\"array\":[0.048682593504492395,0.03996391894293993,0.16744620908563984,0.12779149768037792,0.2584250599294554,0.6110352306241315],\"symmetric\":true,\"type\":\"data\",\"visible\":true},\"error_y\":{\"array\":[0.5,0.5,0.5,0.5,0.5,0.5],\"symmetric\":true,\"type\":\"data\",\"visible\":true},\"marker\":{\"color\":\"blue\",\"size\":8},\"mode\":\"markers\",\"name\":\"Observations with error bars\",\"x\":[0.7812856265067175,0.9325150861376617,1.48256096851274,2.00568970825902,2.747477419454621,3.7320508075688776],\"y\":[1.0,1.4,2.1,2.9,3.6,4.9],\"type\":\"scatter\"},{\"line\":{\"color\":\"green\",\"dash\":\"dot\"},\"mode\":\"lines\",\"name\":\"Lower bound\",\"x\":[0.5312856265067175,0.5523949992758741,0.5735043720450307,0.5946137448141873,0.6157231175833439,0.6368324903525004,0.657941863121657,0.6790512358908136,0.7001606086599702,0.7212699814291268,0.7423793541982834,0.76348872696744,0.7845980997365966,0.8057074725057531,0.8268168452749097,0.8479262180440663,0.8690355908132229,0.8901449635823795,0.9112543363515361,0.9323637091206927,0.9534730818898492,0.9745824546590058,0.9956918274281624,1.016801200197319,1.0379105729664757,1.0590199457356322,1.0801293185047887,1.1012386912739454,1.122348064043102,1.1434574368122585,1.164566809581415,1.1856761823505717,1.2067855551197284,1.2278949278888849,1.2490043006580414,1.270113673427198,1.2912230461963548,1.3123324189655112,1.3334417917346677,1.3545511645038244,1.375660537272981,1.3967699100421376,1.417879282811294,1.4389886555804507,1.4600980283496074,1.481207401118764,1.5023167738879204,1.523426146657077,1.5445355194262338,1.5656448921953903,1.5867542649645467,1.6078636377337037,1.6289730105028601,1.6500823832720166,1.671191756041173,1.69230112881033,1.7134105015794865,1.734519874348643,1.7556292471177994,1.7767386198869564,1.7978479926561128,1.8189573654252693,1.8400667381944258,1.8611761109635827,1.8822854837327392,1.9033948565018957,1.9245042292710521,1.945613602040209,1.9667229748093655,1.987832347578522,2.0089417203476785,2.0300510931168354,2.051160465885992,2.0722698386551484,2.093379211424305,2.1144885841934618,2.1355979569626182,2.1567073297317747,2.177816702500931,2.198926075270088,2.2200354480392446,2.241144820808401,2.2622541935775575,2.2833635663467144,2.304472939115871,2.3255823118850274,2.346691684654184,2.367801057423341,2.3889104301924973,2.4100198029616537,2.43112917573081,2.452238548499967,2.4733479212691236,2.49445729403828,2.5155666668074366,2.5366760395765935,2.55778541234575,2.5788947851149064,2.600004157884063,2.62111353065322,2.6422229034223763,2.663332276191533,2.6844416489606897,2.705551021729846,2.7266603944990027,2.747769767268159,2.7688791400373156,2.7899885128064725,2.811097885575629,2.8322072583447855,2.8533166311139424,2.874426003883099,2.8955353766522554,2.916644749421412,2.9377541221905683,2.9588634949597252,2.9799728677288817,3.001082240498038,3.022191613267195,3.0433009860363516,3.064410358805508,3.0855197315746645,3.106629104343821,3.127738477112978,3.1488478498821344,3.169957222651291,3.191066595420448,3.2121759681896043,3.2332853409587607,3.254394713727917,3.2755040864970737,3.2966134592662306,3.317722832035387,3.3388322048045436,3.3599415775737005,3.381050950342857,3.4021603231120134,3.42326969588117,3.4443790686503264,3.4654884414194833,3.48659781418864,3.5077071869577963,3.528816559726953,3.5499259324961097,3.571035305265266,3.5921446780344226,3.613254050803579,3.634363423572736,3.6554727963418925,3.676582169111049,3.697691541880206,3.7188009146493624,3.739910287418519,3.7610196601876753,3.782129032956832,3.8032384057259887,3.824347778495145,3.8454571512643017,3.8665665240334586,3.887675896802615,3.9087852695717715,3.929894642340928,3.9510040151100845,3.9721133878792414,3.993222760648398,4.014332133417554,4.035441506186711,4.056550878955868,4.077660251725024,4.098769624494181,4.119878997263337,4.140988370032494,4.162097742801651,4.183207115570807,4.2043164883399635,4.22542586110912,4.2465352338782765,4.267644606647433,4.288753979416589,4.309863352185746,4.330972724954903,4.352082097724059,4.373191470493216,4.394300843262373,4.415410216031529,4.436519588800686,4.457628961569842,4.478738334338999,4.499847707108156,4.520957079877312,4.542066452646469,4.563175825415625,4.584285198184782,4.605394570953939,4.626503943723095,4.647613316492252,4.668722689261408,4.689832062030565,4.710941434799722,4.732050807568878],\"y\":[0.19116742297213218,0.21724447093909438,0.24332151890605647,0.26939856687301866,0.29547561483998086,0.32155266280694295,0.34762971077390514,0.37370675874086723,0.3997838067078294,0.4258608546747916,0.4519379026417537,0.4780149506087159,0.5040919985756781,0.5301690465426402,0.5562460945096024,0.5823231424765645,0.6084001904435268,0.6344772384104889,0.660554286377451,0.686631334344413,0.7127083823113753,0.7387854302783374,0.7648624782452995,0.7909395262122618,0.8170165741792241,0.843093622146186,0.8691706701131481,0.8952477180801104,0.9213247660470727,0.9474018140140348,0.9734788619809966,0.999555909947959,1.0256329579149213,1.0517100058818833,1.0777870538488454,1.1038641018158075,1.1299411497827698,1.156018197749732,1.182095245716694,1.2081722936836563,1.2342493416506186,1.2603263896175805,1.2864034375845426,1.3124804855515049,1.3385575335184672,1.3646345814854293,1.3907116294523911,1.4167886774193534,1.4428657253863157,1.4689427733532778,1.4950198213202397,1.5210968692872024,1.5471739172541645,1.5732509652211264,1.5993280131880883,1.625405061155051,1.6514821091220129,1.6775591570889752,1.703636205055937,1.7297132530228998,1.7557903009898617,1.7818673489568235,1.8079443969237858,1.8340214448907481,1.8600984928577105,1.8861755408246723,1.9122525887916342,1.938329636758597,1.9644066847255588,1.9904837326925207,2.016560780659483,2.0426378286264453,2.0687148765934076,2.0947919245603694,2.1208689725273313,2.146946020494294,2.173023068461256,2.1991001164282182,2.22517716439518,2.251254212362143,2.2773312603291047,2.3034083082960666,2.329485356263029,2.355562404229991,2.3816394521969535,2.4077165001639154,2.4337935481308772,2.45987059609784,2.485947644064802,2.512024692031764,2.538101739998726,2.5641787879656888,2.5902558359326506,2.6163328838996125,2.642409931866575,2.668486979833537,2.694564027800499,2.7206410757674613,2.746718123734423,2.772795171701386,2.7988722196683478,2.8249492676353096,2.8510263156022724,2.8771033635692342,2.9031804115361965,2.9292574595031584,2.9553345074701203,2.981411555437083,3.007488603404045,3.033565651371007,3.0596426993379695,3.085719747304932,3.1117967952718937,3.1378738432388555,3.163950891205818,3.19002793917278,3.2161049871397425,3.2421820351067043,3.268259083073667,3.294336131040629,3.320413179007591,3.346490226974553,3.372567274941515,3.3986443229084773,3.4247213708754396,3.4507984188424015,3.476875466809364,3.502952514776326,3.529029562743288,3.55510661071025,3.5811836586772126,3.6072607066441744,3.633337754611137,3.659414802578099,3.685491850545062,3.7115688985120237,3.7376459464789855,3.7637229944459474,3.7898000424129092,3.815877090379872,3.841954138346834,3.8680311863137957,3.8941082342807585,3.9201852822477203,3.946262330214682,3.972339378181645,3.998416426148607,4.02449347411557,4.050570522082531,4.076647570049493,4.102724618016456,4.128801665983418,4.15487871395038,4.180955761917342,4.2070328098843035,4.233109857851266,4.259186905818228,4.285263953785191,4.311341001752153,4.3374180497191155,4.363495097686077,4.389572145653039,4.415649193620001,4.441726241586964,4.467803289553926,4.493880337520888,4.519957385487849,4.546034433454812,4.572111481421774,4.598188529388737,4.624265577355698,4.6503426253226605,4.676419673289623,4.702496721256584,4.728573769223547,4.75465081719051,4.780727865157471,4.8068049131244335,4.832881961091395,4.858959009058357,4.88503605702532,4.911113104992282,4.937190152959245,4.963267200926206,4.989344248893168,5.015421296860131,5.041498344827092,5.067575392794055,5.0936524407610175,5.1197294887279785,5.145806536694941,5.171883584661903,5.197960632628866,5.224037680595828,5.25011472856279,5.276191776529752,5.302268824496713,5.328345872463676,5.354422920430639,5.3804999683976],\"type\":\"scatter\"},{\"line\":{\"color\":\"green\",\"dash\":\"dot\"},\"mode\":\"lines\",\"name\":\"Upper bound\",\"x\":[0.5312856265067175,0.5523949992758741,0.5735043720450307,0.5946137448141873,0.6157231175833439,0.6368324903525004,0.657941863121657,0.6790512358908136,0.7001606086599702,0.7212699814291268,0.7423793541982834,0.76348872696744,0.7845980997365966,0.8057074725057531,0.8268168452749097,0.8479262180440663,0.8690355908132229,0.8901449635823795,0.9112543363515361,0.9323637091206927,0.9534730818898492,0.9745824546590058,0.9956918274281624,1.016801200197319,1.0379105729664757,1.0590199457356322,1.0801293185047887,1.1012386912739454,1.122348064043102,1.1434574368122585,1.164566809581415,1.1856761823505717,1.2067855551197284,1.2278949278888849,1.2490043006580414,1.270113673427198,1.2912230461963548,1.3123324189655112,1.3334417917346677,1.3545511645038244,1.375660537272981,1.3967699100421376,1.417879282811294,1.4389886555804507,1.4600980283496074,1.481207401118764,1.5023167738879204,1.523426146657077,1.5445355194262338,1.5656448921953903,1.5867542649645467,1.6078636377337037,1.6289730105028601,1.6500823832720166,1.671191756041173,1.69230112881033,1.7134105015794865,1.734519874348643,1.7556292471177994,1.7767386198869564,1.7978479926561128,1.8189573654252693,1.8400667381944258,1.8611761109635827,1.8822854837327392,1.9033948565018957,1.9245042292710521,1.945613602040209,1.9667229748093655,1.987832347578522,2.0089417203476785,2.0300510931168354,2.051160465885992,2.0722698386551484,2.093379211424305,2.1144885841934618,2.1355979569626182,2.1567073297317747,2.177816702500931,2.198926075270088,2.2200354480392446,2.241144820808401,2.2622541935775575,2.2833635663467144,2.304472939115871,2.3255823118850274,2.346691684654184,2.367801057423341,2.3889104301924973,2.4100198029616537,2.43112917573081,2.452238548499967,2.4733479212691236,2.49445729403828,2.5155666668074366,2.5366760395765935,2.55778541234575,2.5788947851149064,2.600004157884063,2.62111353065322,2.6422229034223763,2.663332276191533,2.6844416489606897,2.705551021729846,2.7266603944990027,2.747769767268159,2.7688791400373156,2.7899885128064725,2.811097885575629,2.8322072583447855,2.8533166311139424,2.874426003883099,2.8955353766522554,2.916644749421412,2.9377541221905683,2.9588634949597252,2.9799728677288817,3.001082240498038,3.022191613267195,3.0433009860363516,3.064410358805508,3.0855197315746645,3.106629104343821,3.127738477112978,3.1488478498821344,3.169957222651291,3.191066595420448,3.2121759681896043,3.2332853409587607,3.254394713727917,3.2755040864970737,3.2966134592662306,3.317722832035387,3.3388322048045436,3.3599415775737005,3.381050950342857,3.4021603231120134,3.42326969588117,3.4443790686503264,3.4654884414194833,3.48659781418864,3.5077071869577963,3.528816559726953,3.5499259324961097,3.571035305265266,3.5921446780344226,3.613254050803579,3.634363423572736,3.6554727963418925,3.676582169111049,3.697691541880206,3.7188009146493624,3.739910287418519,3.7610196601876753,3.782129032956832,3.8032384057259887,3.824347778495145,3.8454571512643017,3.8665665240334586,3.887675896802615,3.9087852695717715,3.929894642340928,3.9510040151100845,3.9721133878792414,3.993222760648398,4.014332133417554,4.035441506186711,4.056550878955868,4.077660251725024,4.098769624494181,4.119878997263337,4.140988370032494,4.162097742801651,4.183207115570807,4.2043164883399635,4.22542586110912,4.2465352338782765,4.267644606647433,4.288753979416589,4.309863352185746,4.330972724954903,4.352082097724059,4.373191470493216,4.394300843262373,4.415410216031529,4.436519588800686,4.457628961569842,4.478738334338999,4.499847707108156,4.520957079877312,4.542066452646469,4.563175825415625,4.584285198184782,4.605394570953939,4.626503943723095,4.647613316492252,4.668722689261408,4.689832062030565,4.710941434799722,4.732050807568878],\"y\":[1.3499940100772239,1.3789307722911155,1.4078675345050071,1.4368042967188988,1.4657410589327904,1.494677821146682,1.5236145833605736,1.5525513455744653,1.5814881077883571,1.6104248700022485,1.6393616322161402,1.6682983944300318,1.6972351566439237,1.7261719188578153,1.755108681071707,1.7840454432855986,1.8129822054994902,1.8419189677133818,1.8708557299272734,1.899792492141165,1.9287292543550567,1.9576660165689483,1.98660277878284,2.0155395409967314,2.0444763032106232,2.073413065424515,2.1023498276384065,2.1312865898522984,2.1602233520661898,2.1891601142800816,2.218096876493973,2.247033638707865,2.2759704009217567,2.304907163135648,2.3338439253495395,2.3627806875634314,2.3917174497773233,2.4206542119912147,2.4495909742051065,2.478527736418998,2.50746449863289,2.536401260846781,2.565338023060673,2.594274785274565,2.6232115474884563,2.6521483097023477,2.6810850719162396,2.710021834130131,2.738958596344023,2.7678953585579142,2.796832120771806,2.825768882985698,2.8547056451995894,2.883642407413481,2.9125791696273726,2.9415159318412645,2.9704526940551563,2.9993894562690477,3.028326218482939,3.057262980696831,3.086199742910723,3.1151365051246143,3.1440732673385057,3.173010029552398,3.2019467917662894,3.230883553980181,3.259820316194072,3.2887570784079645,3.317693840621856,3.3466306028357473,3.3755673650496387,3.404504127263531,3.4334408894774224,3.462377651691314,3.4913144139052052,3.5202511761190975,3.549187938332989,3.5781247005468804,3.607061462760772,3.635998224974664,3.6649349871885555,3.693871749402447,3.7228085116163387,3.7517452738302306,3.780682036044122,3.809618798258014,3.8385555604719053,3.867492322685797,3.896429084899689,3.9253658471135804,3.954302609327472,3.9832393715413636,4.012176133755256,4.041112895969147,4.070049658183038,4.098986420396931,4.127923182610822,4.156859944824713,4.185796707038605,4.214733469252497,4.243670231466389,4.27260699368028,4.301543755894173,4.330480518108064,4.359417280321955,4.3883540425358465,4.417290804749738,4.44622756696363,4.475164329177522,4.504101091391413,4.533037853605306,4.561974615819197,4.590911378033088,4.6198481402469795,4.648784902460871,4.677721664674763,4.706658426888655,4.735595189102546,4.764531951316439,4.79346871353033,4.822405475744222,4.851342237958113,4.8802790001720044,4.909215762385896,4.938152524599788,4.967089286813679,4.996026049027572,5.024962811241463,5.053899573455355,5.082836335669246,5.1117730978831375,5.140709860097029,5.169646622310921,5.198583384524813,5.227520146738705,5.256456908952596,5.285393671166488,5.31433043338038,5.3432671955942705,5.372203957808162,5.401140720022054,5.430077482235946,5.459014244449838,5.48795100666373,5.516887768877621,5.545824531091513,5.574761293305404,5.603698055519296,5.632634817733187,5.661571579947079,5.690508342160971,5.719445104374863,5.748381866588754,5.777318628802646,5.806255391016537,5.835192153230429,5.86412891544432,5.893065677658212,5.922002439872104,5.950939202085996,5.979875964299887,6.008812726513779,6.037749488727671,6.066686250941562,6.095623013155453,6.124559775369344,6.153496537583237,6.182433299797129,6.21137006201102,6.240306824224912,6.269243586438803,6.298180348652695,6.327117110866587,6.356053873080478,6.38499063529437,6.413927397508262,6.442864159722153,6.471800921936045,6.500737684149936,6.529674446363828,6.55861120857772,6.587547970791611,6.616484733005503,6.645421495219395,6.674358257433286,6.703295019647178,6.732231781861069,6.761168544074962,6.7901053062888534,6.819042068502744,6.847978830716636,6.876915592930527,6.905852355144419,6.934789117358312,6.963725879572202,6.992662641786095,7.021599403999986,7.0505361662138775,7.079472928427769,7.10840969064166],\"type\":\"scatter\"},{\"line\":{\"color\":\"red\",\"width\":2},\"mode\":\"lines\",\"name\":\"Extrapolated line\",\"x\":[0.5312856265067175,0.5523949992758741,0.5735043720450307,0.5946137448141873,0.6157231175833439,0.6368324903525004,0.657941863121657,0.6790512358908136,0.7001606086599702,0.7212699814291268,0.7423793541982834,0.76348872696744,0.7845980997365966,0.8057074725057531,0.8268168452749097,0.8479262180440663,0.8690355908132229,0.8901449635823795,0.9112543363515361,0.9323637091206927,0.9534730818898492,0.9745824546590058,0.9956918274281624,1.016801200197319,1.0379105729664757,1.0590199457356322,1.0801293185047887,1.1012386912739454,1.122348064043102,1.1434574368122585,1.164566809581415,1.1856761823505717,1.2067855551197284,1.2278949278888849,1.2490043006580414,1.270113673427198,1.2912230461963548,1.3123324189655112,1.3334417917346677,1.3545511645038244,1.375660537272981,1.3967699100421376,1.417879282811294,1.4389886555804507,1.4600980283496074,1.481207401118764,1.5023167738879204,1.523426146657077,1.5445355194262338,1.5656448921953903,1.5867542649645467,1.6078636377337037,1.6289730105028601,1.6500823832720166,1.671191756041173,1.69230112881033,1.7134105015794865,1.734519874348643,1.7556292471177994,1.7767386198869564,1.7978479926561128,1.8189573654252693,1.8400667381944258,1.8611761109635827,1.8822854837327392,1.9033948565018957,1.9245042292710521,1.945613602040209,1.9667229748093655,1.987832347578522,2.0089417203476785,2.0300510931168354,2.051160465885992,2.0722698386551484,2.093379211424305,2.1144885841934618,2.1355979569626182,2.1567073297317747,2.177816702500931,2.198926075270088,2.2200354480392446,2.241144820808401,2.2622541935775575,2.2833635663467144,2.304472939115871,2.3255823118850274,2.346691684654184,2.367801057423341,2.3889104301924973,2.4100198029616537,2.43112917573081,2.452238548499967,2.4733479212691236,2.49445729403828,2.5155666668074366,2.5366760395765935,2.55778541234575,2.5788947851149064,2.600004157884063,2.62111353065322,2.6422229034223763,2.663332276191533,2.6844416489606897,2.705551021729846,2.7266603944990027,2.747769767268159,2.7688791400373156,2.7899885128064725,2.811097885575629,2.8322072583447855,2.8533166311139424,2.874426003883099,2.8955353766522554,2.916644749421412,2.9377541221905683,2.9588634949597252,2.9799728677288817,3.001082240498038,3.022191613267195,3.0433009860363516,3.064410358805508,3.0855197315746645,3.106629104343821,3.127738477112978,3.1488478498821344,3.169957222651291,3.191066595420448,3.2121759681896043,3.2332853409587607,3.254394713727917,3.2755040864970737,3.2966134592662306,3.317722832035387,3.3388322048045436,3.3599415775737005,3.381050950342857,3.4021603231120134,3.42326969588117,3.4443790686503264,3.4654884414194833,3.48659781418864,3.5077071869577963,3.528816559726953,3.5499259324961097,3.571035305265266,3.5921446780344226,3.613254050803579,3.634363423572736,3.6554727963418925,3.676582169111049,3.697691541880206,3.7188009146493624,3.739910287418519,3.7610196601876753,3.782129032956832,3.8032384057259887,3.824347778495145,3.8454571512643017,3.8665665240334586,3.887675896802615,3.9087852695717715,3.929894642340928,3.9510040151100845,3.9721133878792414,3.993222760648398,4.014332133417554,4.035441506186711,4.056550878955868,4.077660251725024,4.098769624494181,4.119878997263337,4.140988370032494,4.162097742801651,4.183207115570807,4.2043164883399635,4.22542586110912,4.2465352338782765,4.267644606647433,4.288753979416589,4.309863352185746,4.330972724954903,4.352082097724059,4.373191470493216,4.394300843262373,4.415410216031529,4.436519588800686,4.457628961569842,4.478738334338999,4.499847707108156,4.520957079877312,4.542066452646469,4.563175825415625,4.584285198184782,4.605394570953939,4.626503943723095,4.647613316492252,4.668722689261408,4.689832062030565,4.710941434799722,4.732050807568878],\"y\":[0.8374363125278601,0.8644643465390317,0.8914923805502033,0.9185204145613749,0.9455484485725466,0.9725764825837182,0.9996045165948898,1.0266325506060614,1.053660584617233,1.0806886186284048,1.1077166526395763,1.1347446866507478,1.1617727206619195,1.1888007546730912,1.215828788684263,1.2428568226954344,1.2698848567066061,1.2969128907177776,1.3239409247289493,1.350968958740121,1.3779969927512925,1.4050250267624642,1.432053060773636,1.4590810947848074,1.4861091287959791,1.5131371628071506,1.540165196818322,1.567193230829494,1.5942212648406657,1.6212492988518372,1.6482773328630087,1.6753053668741804,1.7023334008853521,1.7293614348965236,1.756389468907695,1.783417502918867,1.8104455369300387,1.8374735709412102,1.8645016049523817,1.8915296389635534,1.9185576729747251,1.9455857069858966,1.972613740997068,1.99964177500824,2.0266698090194115,2.0536978430305832,2.080725877041755,2.107753911052926,2.1347819450640984,2.1618099790752696,2.1888380130864413,2.215866047097613,2.2428940811087847,2.269922115119956,2.2969501491311277,2.3239781831423,2.351006217153471,2.378034251164643,2.405062285175814,2.4320903191869863,2.4591183531981575,2.4861463872093292,2.5131744212205005,2.5402024552316727,2.5672304892428444,2.5942585232540156,2.6212865572651873,2.6483145912763595,2.6753426252875308,2.702370659298702,2.7293986933098737,2.756426727321046,2.783454761332217,2.810482795343389,2.83751082935456,2.8645388633657323,2.891566897376904,2.9185949313880752,2.9456229653992465,2.9726509994104187,2.9996790334215904,3.0267070674327616,3.0537351014439333,3.0807631354551055,3.1077911694662768,3.1348192034774485,3.1618472374886197,3.188875271499792,3.215903305510963,3.242931339522135,3.269959373533306,3.2969874075444783,3.32401544155565,3.3510434755668213,3.378071509577993,3.4050995435891647,3.4321275776003364,3.4591556116115076,3.4861836456226794,3.5132116796338515,3.5402397136450228,3.5672677476561945,3.594295781667366,3.621323815678538,3.648351849689709,3.675379883700881,3.702407917712052,3.7294359517232243,3.756463985734396,3.7834920197455673,3.8105200537567394,3.8375480877679107,3.8645761217790824,3.8916041557902536,3.9186321898014254,3.9456602238125975,3.9726882578237688,3.9997162918349405,4.026744325846112,4.053772359857284,4.080800393868455,4.107828427879626,4.134856461890799,4.161884495901971,4.188912529913142,4.215940563924313,4.242968597935485,4.269996631946657,4.297024665957828,4.324052699969,4.351080733980171,4.3781087679913435,4.405136802002515,4.432164836013686,4.459192870024858,4.4862209040360295,4.513248938047202,4.540276972058373,4.567305006069544,4.594333040080716,4.621361074091888,4.64838910810306,4.675417142114231,4.702445176125403,4.729473210136574,4.756501244147746,4.783529278158917,4.810557312170089,4.837585346181261,4.8646133801924325,4.891641414203605,4.918669448214776,4.945697482225947,4.9727255162371184,4.999753550248291,5.026781584259463,5.053809618270634,5.080837652281805,5.107865686292977,5.134893720304149,5.16192175431532,5.188949788326492,5.215977822337663,5.2430058563488355,5.270033890360007,5.297061924371178,5.32408995838235,5.3511179923935215,5.378146026404693,5.405174060415865,5.432202094427036,5.459230128438207,5.48625816244938,5.513286196460551,5.540314230471723,5.567342264482895,5.5943702984940655,5.621398332505238,5.648426366516409,5.675454400527581,5.702482434538753,5.729510468549924,5.756538502561096,5.783566536572268,5.810594570583439,5.8376226045946105,5.864650638605782,5.891678672616954,5.918706706628126,5.945734740639296,5.972762774650469,5.99979080866164,6.026818842672812,6.053846876683984,6.0808749106951545,6.107902944706327,6.134930978717498,6.16195901272867,6.188987046739842,6.216015080751013],\"type\":\"scatter\"}],                        {\"template\":{\"data\":{\"barpolar\":[{\"marker\":{\"line\":{\"color\":\"white\",\"width\":0.5},\"pattern\":{\"fillmode\":\"overlay\",\"size\":10,\"solidity\":0.2}},\"type\":\"barpolar\"}],\"bar\":[{\"error_x\":{\"color\":\"#2a3f5f\"},\"error_y\":{\"color\":\"#2a3f5f\"},\"marker\":{\"line\":{\"color\":\"white\",\"width\":0.5},\"pattern\":{\"fillmode\":\"overlay\",\"size\":10,\"solidity\":0.2}},\"type\":\"bar\"}],\"carpet\":[{\"aaxis\":{\"endlinecolor\":\"#2a3f5f\",\"gridcolor\":\"#C8D4E3\",\"linecolor\":\"#C8D4E3\",\"minorgridcolor\":\"#C8D4E3\",\"startlinecolor\":\"#2a3f5f\"},\"baxis\":{\"endlinecolor\":\"#2a3f5f\",\"gridcolor\":\"#C8D4E3\",\"linecolor\":\"#C8D4E3\",\"minorgridcolor\":\"#C8D4E3\",\"startlinecolor\":\"#2a3f5f\"},\"type\":\"carpet\"}],\"choropleth\":[{\"colorbar\":{\"outlinewidth\":0,\"ticks\":\"\"},\"type\":\"choropleth\"}],\"contourcarpet\":[{\"colorbar\":{\"outlinewidth\":0,\"ticks\":\"\"},\"type\":\"contourcarpet\"}],\"contour\":[{\"colorbar\":{\"outlinewidth\":0,\"ticks\":\"\"},\"colorscale\":[[0.0,\"#0d0887\"],[0.1111111111111111,\"#46039f\"],[0.2222222222222222,\"#7201a8\"],[0.3333333333333333,\"#9c179e\"],[0.4444444444444444,\"#bd3786\"],[0.5555555555555556,\"#d8576b\"],[0.6666666666666666,\"#ed7953\"],[0.7777777777777778,\"#fb9f3a\"],[0.8888888888888888,\"#fdca26\"],[1.0,\"#f0f921\"]],\"type\":\"contour\"}],\"heatmapgl\":[{\"colorbar\":{\"outlinewidth\":0,\"ticks\":\"\"},\"colorscale\":[[0.0,\"#0d0887\"],[0.1111111111111111,\"#46039f\"],[0.2222222222222222,\"#7201a8\"],[0.3333333333333333,\"#9c179e\"],[0.4444444444444444,\"#bd3786\"],[0.5555555555555556,\"#d8576b\"],[0.6666666666666666,\"#ed7953\"],[0.7777777777777778,\"#fb9f3a\"],[0.8888888888888888,\"#fdca26\"],[1.0,\"#f0f921\"]],\"type\":\"heatmapgl\"}],\"heatmap\":[{\"colorbar\":{\"outlinewidth\":0,\"ticks\":\"\"},\"colorscale\":[[0.0,\"#0d0887\"],[0.1111111111111111,\"#46039f\"],[0.2222222222222222,\"#7201a8\"],[0.3333333333333333,\"#9c179e\"],[0.4444444444444444,\"#bd3786\"],[0.5555555555555556,\"#d8576b\"],[0.6666666666666666,\"#ed7953\"],[0.7777777777777778,\"#fb9f3a\"],[0.8888888888888888,\"#fdca26\"],[1.0,\"#f0f921\"]],\"type\":\"heatmap\"}],\"histogram2dcontour\":[{\"colorbar\":{\"outlinewidth\":0,\"ticks\":\"\"},\"colorscale\":[[0.0,\"#0d0887\"],[0.1111111111111111,\"#46039f\"],[0.2222222222222222,\"#7201a8\"],[0.3333333333333333,\"#9c179e\"],[0.4444444444444444,\"#bd3786\"],[0.5555555555555556,\"#d8576b\"],[0.6666666666666666,\"#ed7953\"],[0.7777777777777778,\"#fb9f3a\"],[0.8888888888888888,\"#fdca26\"],[1.0,\"#f0f921\"]],\"type\":\"histogram2dcontour\"}],\"histogram2d\":[{\"colorbar\":{\"outlinewidth\":0,\"ticks\":\"\"},\"colorscale\":[[0.0,\"#0d0887\"],[0.1111111111111111,\"#46039f\"],[0.2222222222222222,\"#7201a8\"],[0.3333333333333333,\"#9c179e\"],[0.4444444444444444,\"#bd3786\"],[0.5555555555555556,\"#d8576b\"],[0.6666666666666666,\"#ed7953\"],[0.7777777777777778,\"#fb9f3a\"],[0.8888888888888888,\"#fdca26\"],[1.0,\"#f0f921\"]],\"type\":\"histogram2d\"}],\"histogram\":[{\"marker\":{\"pattern\":{\"fillmode\":\"overlay\",\"size\":10,\"solidity\":0.2}},\"type\":\"histogram\"}],\"mesh3d\":[{\"colorbar\":{\"outlinewidth\":0,\"ticks\":\"\"},\"type\":\"mesh3d\"}],\"parcoords\":[{\"line\":{\"colorbar\":{\"outlinewidth\":0,\"ticks\":\"\"}},\"type\":\"parcoords\"}],\"pie\":[{\"automargin\":true,\"type\":\"pie\"}],\"scatter3d\":[{\"line\":{\"colorbar\":{\"outlinewidth\":0,\"ticks\":\"\"}},\"marker\":{\"colorbar\":{\"outlinewidth\":0,\"ticks\":\"\"}},\"type\":\"scatter3d\"}],\"scattercarpet\":[{\"marker\":{\"colorbar\":{\"outlinewidth\":0,\"ticks\":\"\"}},\"type\":\"scattercarpet\"}],\"scattergeo\":[{\"marker\":{\"colorbar\":{\"outlinewidth\":0,\"ticks\":\"\"}},\"type\":\"scattergeo\"}],\"scattergl\":[{\"marker\":{\"colorbar\":{\"outlinewidth\":0,\"ticks\":\"\"}},\"type\":\"scattergl\"}],\"scattermapbox\":[{\"marker\":{\"colorbar\":{\"outlinewidth\":0,\"ticks\":\"\"}},\"type\":\"scattermapbox\"}],\"scatterpolargl\":[{\"marker\":{\"colorbar\":{\"outlinewidth\":0,\"ticks\":\"\"}},\"type\":\"scatterpolargl\"}],\"scatterpolar\":[{\"marker\":{\"colorbar\":{\"outlinewidth\":0,\"ticks\":\"\"}},\"type\":\"scatterpolar\"}],\"scatter\":[{\"fillpattern\":{\"fillmode\":\"overlay\",\"size\":10,\"solidity\":0.2},\"type\":\"scatter\"}],\"scatterternary\":[{\"marker\":{\"colorbar\":{\"outlinewidth\":0,\"ticks\":\"\"}},\"type\":\"scatterternary\"}],\"surface\":[{\"colorbar\":{\"outlinewidth\":0,\"ticks\":\"\"},\"colorscale\":[[0.0,\"#0d0887\"],[0.1111111111111111,\"#46039f\"],[0.2222222222222222,\"#7201a8\"],[0.3333333333333333,\"#9c179e\"],[0.4444444444444444,\"#bd3786\"],[0.5555555555555556,\"#d8576b\"],[0.6666666666666666,\"#ed7953\"],[0.7777777777777778,\"#fb9f3a\"],[0.8888888888888888,\"#fdca26\"],[1.0,\"#f0f921\"]],\"type\":\"surface\"}],\"table\":[{\"cells\":{\"fill\":{\"color\":\"#EBF0F8\"},\"line\":{\"color\":\"white\"}},\"header\":{\"fill\":{\"color\":\"#C8D4E3\"},\"line\":{\"color\":\"white\"}},\"type\":\"table\"}]},\"layout\":{\"annotationdefaults\":{\"arrowcolor\":\"#2a3f5f\",\"arrowhead\":0,\"arrowwidth\":1},\"autotypenumbers\":\"strict\",\"coloraxis\":{\"colorbar\":{\"outlinewidth\":0,\"ticks\":\"\"}},\"colorscale\":{\"diverging\":[[0,\"#8e0152\"],[0.1,\"#c51b7d\"],[0.2,\"#de77ae\"],[0.3,\"#f1b6da\"],[0.4,\"#fde0ef\"],[0.5,\"#f7f7f7\"],[0.6,\"#e6f5d0\"],[0.7,\"#b8e186\"],[0.8,\"#7fbc41\"],[0.9,\"#4d9221\"],[1,\"#276419\"]],\"sequential\":[[0.0,\"#0d0887\"],[0.1111111111111111,\"#46039f\"],[0.2222222222222222,\"#7201a8\"],[0.3333333333333333,\"#9c179e\"],[0.4444444444444444,\"#bd3786\"],[0.5555555555555556,\"#d8576b\"],[0.6666666666666666,\"#ed7953\"],[0.7777777777777778,\"#fb9f3a\"],[0.8888888888888888,\"#fdca26\"],[1.0,\"#f0f921\"]],\"sequentialminus\":[[0.0,\"#0d0887\"],[0.1111111111111111,\"#46039f\"],[0.2222222222222222,\"#7201a8\"],[0.3333333333333333,\"#9c179e\"],[0.4444444444444444,\"#bd3786\"],[0.5555555555555556,\"#d8576b\"],[0.6666666666666666,\"#ed7953\"],[0.7777777777777778,\"#fb9f3a\"],[0.8888888888888888,\"#fdca26\"],[1.0,\"#f0f921\"]]},\"colorway\":[\"#636efa\",\"#EF553B\",\"#00cc96\",\"#ab63fa\",\"#FFA15A\",\"#19d3f3\",\"#FF6692\",\"#B6E880\",\"#FF97FF\",\"#FECB52\"],\"font\":{\"color\":\"#2a3f5f\"},\"geo\":{\"bgcolor\":\"white\",\"lakecolor\":\"white\",\"landcolor\":\"white\",\"showlakes\":true,\"showland\":true,\"subunitcolor\":\"#C8D4E3\"},\"hoverlabel\":{\"align\":\"left\"},\"hovermode\":\"closest\",\"mapbox\":{\"style\":\"light\"},\"paper_bgcolor\":\"white\",\"plot_bgcolor\":\"white\",\"polar\":{\"angularaxis\":{\"gridcolor\":\"#EBF0F8\",\"linecolor\":\"#EBF0F8\",\"ticks\":\"\"},\"bgcolor\":\"white\",\"radialaxis\":{\"gridcolor\":\"#EBF0F8\",\"linecolor\":\"#EBF0F8\",\"ticks\":\"\"}},\"scene\":{\"xaxis\":{\"backgroundcolor\":\"white\",\"gridcolor\":\"#DFE8F3\",\"gridwidth\":2,\"linecolor\":\"#EBF0F8\",\"showbackground\":true,\"ticks\":\"\",\"zerolinecolor\":\"#EBF0F8\"},\"yaxis\":{\"backgroundcolor\":\"white\",\"gridcolor\":\"#DFE8F3\",\"gridwidth\":2,\"linecolor\":\"#EBF0F8\",\"showbackground\":true,\"ticks\":\"\",\"zerolinecolor\":\"#EBF0F8\"},\"zaxis\":{\"backgroundcolor\":\"white\",\"gridcolor\":\"#DFE8F3\",\"gridwidth\":2,\"linecolor\":\"#EBF0F8\",\"showbackground\":true,\"ticks\":\"\",\"zerolinecolor\":\"#EBF0F8\"}},\"shapedefaults\":{\"line\":{\"color\":\"#2a3f5f\"}},\"ternary\":{\"aaxis\":{\"gridcolor\":\"#DFE8F3\",\"linecolor\":\"#A2B1C6\",\"ticks\":\"\"},\"baxis\":{\"gridcolor\":\"#DFE8F3\",\"linecolor\":\"#A2B1C6\",\"ticks\":\"\"},\"bgcolor\":\"white\",\"caxis\":{\"gridcolor\":\"#DFE8F3\",\"linecolor\":\"#A2B1C6\",\"ticks\":\"\"}},\"title\":{\"x\":0.05},\"xaxis\":{\"automargin\":true,\"gridcolor\":\"#EBF0F8\",\"linecolor\":\"#EBF0F8\",\"ticks\":\"\",\"title\":{\"standoff\":15},\"zerolinecolor\":\"#EBF0F8\",\"zerolinewidth\":2},\"yaxis\":{\"automargin\":true,\"gridcolor\":\"#EBF0F8\",\"linecolor\":\"#EBF0F8\",\"ticks\":\"\",\"title\":{\"standoff\":15},\"zerolinecolor\":\"#EBF0F8\",\"zerolinewidth\":2}}},\"title\":{\"text\":\"Observed current and tangent of phi\",\"x\":0.5,\"xanchor\":\"center\"},\"xaxis\":{\"title\":{\"text\":\"tangent of phi\"},\"range\":[0,5.1]},\"yaxis\":{\"title\":{\"text\":\"Current, amps\"},\"range\":[0,6.1]},\"legend\":{\"orientation\":\"h\",\"yanchor\":\"bottom\",\"y\":-0.3,\"xanchor\":\"center\",\"x\":0.5}},                        {\"responsive\": true}                    ).then(function(){\n",
       "                            \n",
       "var gd = document.getElementById('adc9a2b0-dfcb-43ac-b8a7-ccb2167d5504');\n",
       "var x = new MutationObserver(function (mutations, observer) {{\n",
       "        var display = window.getComputedStyle(gd).display;\n",
       "        if (!display || display === 'none') {{\n",
       "            console.log([gd, 'removed!']);\n",
       "            Plotly.purge(gd);\n",
       "            observer.disconnect();\n",
       "        }}\n",
       "}});\n",
       "\n",
       "// Listen for the removal of the full notebook cells\n",
       "var notebookContainer = gd.closest('#notebook-container');\n",
       "if (notebookContainer) {{\n",
       "    x.observe(notebookContainer, {childList: true});\n",
       "}}\n",
       "\n",
       "// Listen for the clearing of the current output cell\n",
       "var outputEl = gd.closest('.output');\n",
       "if (outputEl) {{\n",
       "    x.observe(outputEl, {childList: true});\n",
       "}}\n",
       "\n",
       "                        })                };                });            </script>        </div>"
      ]
     },
     "metadata": {},
     "output_type": "display_data"
    }
   ],
   "execution_count": 29
  },
  {
   "metadata": {},
   "cell_type": "markdown",
   "source": [
    "### Find the Earth's magnetic field induction $ B_0 $ geometrically\n",
    "\n",
    "* Use slopes of the \"best-fit\" lines:\n",
    "    * $ \\text{slope} = \\frac{I}{tan(\\phi)} $\n",
    "* Use this value of slope to calculate your experimental value of Earth’s magnetic field $ B_0 $\n",
    "  * $ B_0 = \\frac{\\mu_0 n I}{2 r tan(\\phi)} = \\frac{\\mu_0 n}{2 r} \\cdot \\text{slope} $"
   ],
   "id": "26beb38340774509"
  },
  {
   "metadata": {
    "ExecuteTime": {
     "end_time": "2025-04-18T03:00:35.827244Z",
     "start_time": "2025-04-18T03:00:35.823706Z"
    }
   },
   "cell_type": "code",
   "source": [
    "mean_slope = model.coef_[0]\n",
    "upper_slope = upper_model.coef_[0]\n",
    "lower_slope = lower_model.coef_[0]\n",
    "\n",
    "B_0_coef = (mu_0 * n_coil_turns) / (2 * loop_radius_meters)\n",
    "B_0_geometric = B_0_coef * mean_slope\n",
    "B_0_geometric_upper = B_0_coef * upper_slope\n",
    "B_0_geometric_lower = B_0_coef * lower_slope\n",
    "\n",
    "print(f\"Geometrically derived Earth's magnetic field induction B_0: \"\n",
    "      f\"{B_0_geometric:.4e} ± ΔB_0 [T] = [{B_0_geometric_lower:.2e}, {B_0_geometric_upper:.2e}] teslas\")\n",
    "print(f\"Geometrically derived Earth's magnetic field induction B_0 error: \"\n",
    "      f\"[{B_0_geometric_lower-B_0_geometric:.2e}, {B_0_geometric_upper-B_0_geometric:.2e}] teslas\")"
   ],
   "id": "545756e0abd09ff3",
   "outputs": [
    {
     "name": "stdout",
     "output_type": "stream",
     "text": [
      "Geometrically derived Earth's magnetic field induction B_0: 1.3408e-05 ± ΔB_0 [T] = [1.29e-05, 1.44e-05] teslas\n",
      "Geometrically derived Earth's magnetic field induction B_0 error: [-4.72e-07, 9.47e-07] teslas\n"
     ]
    }
   ],
   "execution_count": 30
  },
  {
   "metadata": {},
   "cell_type": "markdown",
   "source": [
    "### Calculate the Earth's magnetic field induction $ B_0 $ from the fifth observation\n",
    "\n",
    "* The fifth observation is selected because of being inside the errors boundaries close to the expected value.\n",
    "* Use the Bio-Sawart law:\n",
    "    * $ B_0 = \\frac{\\mu_0 n I}{2 r tan(\\phi)} $\n",
    "* Calculate partial errors:\n",
    "    * $ \\frac{\\delta B_0}{\\delta I} = \\frac{\\mu_0 n}{2 r tan(\\phi)} \\rightarrow  \\delta B_{0I} = \\frac{\\mu_0 n \\delta I}{2 r tan(\\phi)} $\n",
    "    * $ \\frac{\\delta B_0}{\\delta \\phi} = - \\frac{\\mu_0 n I}{2 r tan^2(\\phi)} \\cdot sec^2(\\phi) \\rightarrow  \\delta B_{0\\phi} =- \\frac{\\mu_0 n I \\delta \\phi}{2 r tan^2(\\phi)} \\cdot sec^2(\\phi) $\n",
    "    * $ \\frac{\\delta B_0}{\\delta r} = - \\frac{\\mu_0 n I}{2 r^2 tan(\\phi)} \\rightarrow  \\delta B_{0r} = - \\frac{\\mu_0 n I\\delta r}{2 r^2 tan(\\phi)} $\n",
    "* Calculate the absolute error:\n",
    "    * $ \\delta B_0 = \\sqrt{\\delta B_{0I}^2 + \\delta B_{0\\phi}^2 + \\delta B_{0r}^2}$"
   ],
   "id": "6545eea1e48edbbc"
  },
  {
   "metadata": {
    "ExecuteTime": {
     "end_time": "2025-04-18T03:00:35.875372Z",
     "start_time": "2025-04-18T03:00:35.872078Z"
    }
   },
   "cell_type": "code",
   "source": [
    "I_5 = df[\"current_amps\"].iloc[5]\n",
    "I_err_5 = df[\"current_error_amps\"].iloc[5]\n",
    "tan_phi_5 = df[\"tan_phi\"].iloc[5]\n",
    "tan_phi_err_5 = df[\"total_err_tan_phi\"].iloc[5]\n",
    "print(f\"Fifth observation: I = {I_5:.1f} ± {I_err_5:.1f} [A], \"\n",
    "      f\"tan(phi) = {tan_phi_5:.2f} ± {tan_phi_err_5:.2f} [degrees]\")\n",
    "\n",
    "B_0_5 = (mu_0 * n_coil_turns * I_5) / (2 * loop_radius_meters * tan_phi_5)\n",
    "print(f\"Fifth observation derived Earth's magnetic field induction B_0: {B_0_5:.4e} [T]\")\n",
    "\n",
    "dB_0_error_I = (mu_0 * n_coil_turns * I_err_5) / (2 * loop_radius_meters * tan_phi_5)\n",
    "dB_0_error_phi = -(mu_0 * n_coil_turns * I_5 * tan_phi_err_5) / (2 * loop_radius_meters * tan_phi_5**2) * secant_squared(tan_phi_5)\n",
    "dB_0_error_r = (mu_0 * n_coil_turns * I_5 * loop_radius_error_meters) / (2 * loop_radius_meters**2 * tan_phi_5)\n",
    "print(f\"Fifth observation partial errors: to I ± {dB_0_error_I:.2e}, to phi ± {dB_0_error_phi:.2e}, to r ± {dB_0_error_r:.2e} [T]\")\n",
    "\n",
    "B_err_5 = np.sqrt(dB_0_error_I**2 + dB_0_error_phi**2 + dB_0_error_r**2)\n",
    "print(f\"Fifth observation absolute error: {B_err_5:.2e} [T]\")"
   ],
   "id": "83002ae552002f97",
   "outputs": [
    {
     "name": "stdout",
     "output_type": "stream",
     "text": [
      "Fifth observation: I = 4.9 ± 0.5 [A], tan(phi) = 3.73 ± 0.61 [degrees]\n",
      "Fifth observation derived Earth's magnetic field induction B_0: 1.3749e-05 [T]\n",
      "Fifth observation partial errors: to I ± 1.40e-06, to phi ± -3.26e-06, to r ± 3.82e-07 [T]\n",
      "Fifth observation absolute error: 3.57e-06 [T]\n"
     ]
    }
   ],
   "execution_count": 31
  },
  {
   "metadata": {},
   "cell_type": "markdown",
   "source": "### Calculate the difference between book's Earth's magnetic field induction value and ones experimentally obtained",
   "id": "a80b0981b620cb56"
  },
  {
   "metadata": {
    "ExecuteTime": {
     "end_time": "2025-04-18T03:00:35.888182Z",
     "start_time": "2025-04-18T03:00:35.885583Z"
    }
   },
   "cell_type": "code",
   "source": [
    "def book_value_diff(b_0_obtained):\n",
    "    b_0_diff = b_0_obtained - B_0_riga_teslas\n",
    "    b_0_rel_diff = b_0_diff / B_0_riga_teslas\n",
    "    return b_0_diff, b_0_rel_diff\n",
    "\n",
    "B_0_geometric_diff, B_0_geometric_rel_diff =  book_value_diff(B_0_geometric)\n",
    "B_0_geometric_lower_diff, B_0_geometric_lower_rel_diff =  book_value_diff(B_0_geometric_lower)\n",
    "B_0_geometric_upper_diff, B_0_geometric_upper_rel_diff =  book_value_diff(B_0_geometric_upper)\n",
    "B_0_5_diff, B_0_5_rel_diff = book_value_diff(B_0_5)\n",
    "print(f\"Geometrically derived Earth's magnetic field induction average difference: {B_0_geometric_diff:+.2e} [T] ({B_0_geometric_rel_diff:.1%})\")\n",
    "print(f\"Geometrically derived Earth's magnetic field induction difference: \"\n",
    "      f\"[{B_0_geometric_lower_diff:+.2e}, {B_0_geometric_upper_diff:+.2e}] \"\n",
    "      f\"[T] ([{B_0_geometric_lower_rel_diff:+.1%}, {B_0_geometric_upper_rel_diff:+.1%}])\")\n",
    "print(f\"Fifth observation derived Earth's magnetic field induction difference: {B_0_5_diff:+.2e} [T] ({B_0_5_rel_diff:.1%})\")"
   ],
   "id": "22d3392c491678f4",
   "outputs": [
    {
     "name": "stdout",
     "output_type": "stream",
     "text": [
      "Geometrically derived Earth's magnetic field induction average difference: -3.39e-06 [T] (-20.2%)\n",
      "Geometrically derived Earth's magnetic field induction difference: [-3.86e-06, -2.44e-06] [T] ([-23.0%, -14.6%])\n",
      "Fifth observation derived Earth's magnetic field induction difference: -3.05e-06 [T] (-18.2%)\n"
     ]
    }
   ],
   "execution_count": 32
  },
  {
   "metadata": {},
   "cell_type": "markdown",
   "source": [
    "---\n",
    "\n",
    "&nbsp;\n",
    "\n",
    "# Results\n",
    "\n",
    "| Obtained Earth's magnetic field induction | Value, micro teslas | Error, micro teslas | Difference to book value, micro teslas | Relative to book value |\n",
    "|-------------------------------------------|---------------------|---------------------|----------------------------------------|------------------------|\n",
    "| Book value                                | 16.80               | 0                   | 0                                      | 0                      |\n",
    "| Geometrically derived                     | 13.41               | [-0.47, +0.97]      | -3.39                                  | -20.2%                 |\n",
    "| Fifth observation                         | 13.75               | ±3.57               | -3.05                                  | -18.2%                 |\n",
    "\n",
    "| Partial error derivate         | Partial error, micro teslas |\n",
    "|--------------------------------|-----------------------------|\n",
    "| with respect to current, I     | 1.40                        |\n",
    "| with respect to tangent, phi   | -3.26                       |\n",
    "| with respect to loop radius, r | 0.38                        |\n",
    "\n",
    "\n",
    "# Conclusions\n",
    "\n",
    "* **The given book value of Earth's magnetic field induction does fall within the bounds of the experimentally obtained value.**\n",
    "The fifth observation's calculated Earth's magnetic field induction is 13.75 micro teslas, 18.2% less than a book value in Riga.\n",
    "However, the error margin of ±3.57 micro teslas correctly estimated that the book value could be 18.2% higher than the expected value of 13.75 micro teslas.\n",
    "The geometric slope approach demonstrated that the overall expected value of the Earth's magnetic field induction is 13.41 microteslas.\n",
    "\n",
    "* **The line chart reveals human errors during measurement.**\n",
    "The current/tangent chart points should make a straight line because their slope must be constant.\n",
    "The magnetic field of Earth, the radius of the loop and the number of turns are constants; therefore, the relationship must be linear.\n",
    "Small deviations from the line indicate that the measurement approach was inconsistent, which is a human error.\n",
    "\n",
    "* **The geometric approach to estimating errors was incorrect.**\n",
    "The confidence interval of upper and lower line slopes is too narrow: [-0.5, +1.0] micro teslas.\n",
    "It does not contain the book value and is significantly off what it should be.\n",
    "First, the geometric approach was based on arbitrarily drawn lines to determine the upper and lower boundaries.\n",
    "The correct approach to drawing upper and lower boundaries needs a proper methodology.\n",
    "Secondly, it does not consider the partial error of measuring coil radius, although its partial error was small.\n",
    "\n",
    "* **The largest partial error is the tangent of phi.**\n",
    "Its absolute value was 3.26, roughly three times greater than the current's partial error.\n",
    "The tangent of phi is based on the phi angle's measurements using a compass with a precision class of 1 degree.\n",
    "Hence, to get more accurate measurements, conducting the experiment again and using a more precise compass or angle measurement would lead to the best improvement.\n",
    "\n",
    "* **The line chart demonstrates the overall systematic error as an offset of the line's trend.**\n",
    "Although random errors are visible, these are not as significant as the general offset of the line's trend from the expected book value.\n",
    "The expected line's slope should be 20% steeper; therefore, the current should be relatively more significant, or the angle phi should be relatively smaller.\n",
    "On the other hand, it could be the noise of the magnetic field that took place during the experiment. Please review the setup to see if the amperemeter provided the correct measurements, and check that all electronic devices nearby are switched off.\n"
   ],
   "id": "2d1e4a4674162c57"
  }
 ],
 "metadata": {
  "kernelspec": {
   "display_name": "Python 3",
   "language": "python",
   "name": "python3"
  },
  "language_info": {
   "codemirror_mode": {
    "name": "ipython",
    "version": 2
   },
   "file_extension": ".py",
   "mimetype": "text/x-python",
   "name": "python",
   "nbconvert_exporter": "python",
   "pygments_lexer": "ipython2",
   "version": "2.7.6"
  }
 },
 "nbformat": 4,
 "nbformat_minor": 5
}
